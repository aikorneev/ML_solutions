{
  "nbformat": 4,
  "nbformat_minor": 0,
  "metadata": {
    "colab": {
      "name": "Sem2_task3.2.ipynb",
      "provenance": [],
      "collapsed_sections": []
    },
    "kernelspec": {
      "name": "python3",
      "display_name": "Python 3"
    },
    "language_info": {
      "name": "python"
    }
  },
  "cells": [
    {
      "cell_type": "markdown",
      "metadata": {
        "id": "OQhw9sXq4eO4"
      },
      "source": [
        "This task is about constructing a classifier based on the dataset of the the National Institute of Diabetes and Digestive and Kidney Diseases. Use the dataset and diagnostic measurements included into it to predict whether a patient has diabetes. Several constraints were imposed on the selection of instances from a larger database to obtain the dataset. In this task, all patients are Pima Indian women of 21 years old or older.\n"
      ]
    },
    {
      "cell_type": "markdown",
      "metadata": {
        "id": "5K7Q6fm8-fNj"
      },
      "source": [
        "The dataset consists of predictors, such as the number of pregnancies, BMI, insulin level, age, and so on. The response takes two values: has (1) diabetes or has no (0) diabetes."
      ]
    },
    {
      "cell_type": "markdown",
      "metadata": {
        "id": "qrIGUFhsDCn6"
      },
      "source": [
        " Download the input dataset and separate from it the first 650 strings.\n",
        "\n",
        "Enter the number of strings in the obtained sample, which belong to the class 0 (has no diabetes)."
      ]
    },
    {
      "cell_type": "code",
      "metadata": {
        "colab": {
          "base_uri": "https://localhost:8080/"
        },
        "id": "s_A0qNIW4Uev",
        "outputId": "8c4a1e7e-62f4-4cd6-decb-aed366455426"
      },
      "source": [
        "#connection to google drive\n",
        "from google.colab import drive\n",
        "drive.mount('/content/drive')"
      ],
      "execution_count": 1,
      "outputs": [
        {
          "output_type": "stream",
          "name": "stdout",
          "text": [
            "Drive already mounted at /content/drive; to attempt to forcibly remount, call drive.mount(\"/content/drive\", force_remount=True).\n"
          ]
        }
      ]
    },
    {
      "cell_type": "code",
      "metadata": {
        "colab": {
          "base_uri": "https://localhost:8080/",
          "height": 417
        },
        "id": "X-xb60gIDOlJ",
        "outputId": "e11422b8-b4c4-4e42-de68-76083fba3e25"
      },
      "source": [
        "#read dataset\n",
        "import pandas as pd\n",
        "df = pd.read_csv(\"/content/drive/My Drive/Digital culture/Semester2/DT/diabetes.csv\")\n",
        "slice_pos = 650\n",
        "DATA = df[:slice_pos]\n",
        "DATA"
      ],
      "execution_count": 2,
      "outputs": [
        {
          "output_type": "execute_result",
          "data": {
            "text/html": [
              "<div>\n",
              "<style scoped>\n",
              "    .dataframe tbody tr th:only-of-type {\n",
              "        vertical-align: middle;\n",
              "    }\n",
              "\n",
              "    .dataframe tbody tr th {\n",
              "        vertical-align: top;\n",
              "    }\n",
              "\n",
              "    .dataframe thead th {\n",
              "        text-align: right;\n",
              "    }\n",
              "</style>\n",
              "<table border=\"1\" class=\"dataframe\">\n",
              "  <thead>\n",
              "    <tr style=\"text-align: right;\">\n",
              "      <th></th>\n",
              "      <th>Pregnancies</th>\n",
              "      <th>Glucose</th>\n",
              "      <th>BloodPressure</th>\n",
              "      <th>SkinThickness</th>\n",
              "      <th>Insulin</th>\n",
              "      <th>BMI</th>\n",
              "      <th>DiabetesPedigreeFunction</th>\n",
              "      <th>Age</th>\n",
              "      <th>Outcome</th>\n",
              "    </tr>\n",
              "  </thead>\n",
              "  <tbody>\n",
              "    <tr>\n",
              "      <th>0</th>\n",
              "      <td>6</td>\n",
              "      <td>148</td>\n",
              "      <td>72</td>\n",
              "      <td>35</td>\n",
              "      <td>0</td>\n",
              "      <td>33.6</td>\n",
              "      <td>0.627</td>\n",
              "      <td>50</td>\n",
              "      <td>1</td>\n",
              "    </tr>\n",
              "    <tr>\n",
              "      <th>1</th>\n",
              "      <td>1</td>\n",
              "      <td>85</td>\n",
              "      <td>66</td>\n",
              "      <td>29</td>\n",
              "      <td>0</td>\n",
              "      <td>26.6</td>\n",
              "      <td>0.351</td>\n",
              "      <td>31</td>\n",
              "      <td>0</td>\n",
              "    </tr>\n",
              "    <tr>\n",
              "      <th>2</th>\n",
              "      <td>8</td>\n",
              "      <td>183</td>\n",
              "      <td>64</td>\n",
              "      <td>0</td>\n",
              "      <td>0</td>\n",
              "      <td>23.3</td>\n",
              "      <td>0.672</td>\n",
              "      <td>32</td>\n",
              "      <td>1</td>\n",
              "    </tr>\n",
              "    <tr>\n",
              "      <th>3</th>\n",
              "      <td>1</td>\n",
              "      <td>89</td>\n",
              "      <td>66</td>\n",
              "      <td>23</td>\n",
              "      <td>94</td>\n",
              "      <td>28.1</td>\n",
              "      <td>0.167</td>\n",
              "      <td>21</td>\n",
              "      <td>0</td>\n",
              "    </tr>\n",
              "    <tr>\n",
              "      <th>4</th>\n",
              "      <td>0</td>\n",
              "      <td>137</td>\n",
              "      <td>40</td>\n",
              "      <td>35</td>\n",
              "      <td>168</td>\n",
              "      <td>43.1</td>\n",
              "      <td>2.288</td>\n",
              "      <td>33</td>\n",
              "      <td>1</td>\n",
              "    </tr>\n",
              "    <tr>\n",
              "      <th>...</th>\n",
              "      <td>...</td>\n",
              "      <td>...</td>\n",
              "      <td>...</td>\n",
              "      <td>...</td>\n",
              "      <td>...</td>\n",
              "      <td>...</td>\n",
              "      <td>...</td>\n",
              "      <td>...</td>\n",
              "      <td>...</td>\n",
              "    </tr>\n",
              "    <tr>\n",
              "      <th>645</th>\n",
              "      <td>2</td>\n",
              "      <td>157</td>\n",
              "      <td>74</td>\n",
              "      <td>35</td>\n",
              "      <td>440</td>\n",
              "      <td>39.4</td>\n",
              "      <td>0.134</td>\n",
              "      <td>30</td>\n",
              "      <td>0</td>\n",
              "    </tr>\n",
              "    <tr>\n",
              "      <th>646</th>\n",
              "      <td>1</td>\n",
              "      <td>167</td>\n",
              "      <td>74</td>\n",
              "      <td>17</td>\n",
              "      <td>144</td>\n",
              "      <td>23.4</td>\n",
              "      <td>0.447</td>\n",
              "      <td>33</td>\n",
              "      <td>1</td>\n",
              "    </tr>\n",
              "    <tr>\n",
              "      <th>647</th>\n",
              "      <td>0</td>\n",
              "      <td>179</td>\n",
              "      <td>50</td>\n",
              "      <td>36</td>\n",
              "      <td>159</td>\n",
              "      <td>37.8</td>\n",
              "      <td>0.455</td>\n",
              "      <td>22</td>\n",
              "      <td>1</td>\n",
              "    </tr>\n",
              "    <tr>\n",
              "      <th>648</th>\n",
              "      <td>11</td>\n",
              "      <td>136</td>\n",
              "      <td>84</td>\n",
              "      <td>35</td>\n",
              "      <td>130</td>\n",
              "      <td>28.3</td>\n",
              "      <td>0.260</td>\n",
              "      <td>42</td>\n",
              "      <td>1</td>\n",
              "    </tr>\n",
              "    <tr>\n",
              "      <th>649</th>\n",
              "      <td>0</td>\n",
              "      <td>107</td>\n",
              "      <td>60</td>\n",
              "      <td>25</td>\n",
              "      <td>0</td>\n",
              "      <td>26.4</td>\n",
              "      <td>0.133</td>\n",
              "      <td>23</td>\n",
              "      <td>0</td>\n",
              "    </tr>\n",
              "  </tbody>\n",
              "</table>\n",
              "<p>650 rows × 9 columns</p>\n",
              "</div>"
            ],
            "text/plain": [
              "     Pregnancies  Glucose  ...  Age  Outcome\n",
              "0              6      148  ...   50        1\n",
              "1              1       85  ...   31        0\n",
              "2              8      183  ...   32        1\n",
              "3              1       89  ...   21        0\n",
              "4              0      137  ...   33        1\n",
              "..           ...      ...  ...  ...      ...\n",
              "645            2      157  ...   30        0\n",
              "646            1      167  ...   33        1\n",
              "647            0      179  ...   22        1\n",
              "648           11      136  ...   42        1\n",
              "649            0      107  ...   23        0\n",
              "\n",
              "[650 rows x 9 columns]"
            ]
          },
          "metadata": {},
          "execution_count": 2
        }
      ]
    },
    {
      "cell_type": "code",
      "metadata": {
        "colab": {
          "base_uri": "https://localhost:8080/"
        },
        "id": "nI4JBJ1RPq-b",
        "outputId": "56d538c1-f05f-4d6b-dc68-fa94074fb4dd"
      },
      "source": [
        "DATA.loc[DATA['Outcome'] == 0].shape[0]"
      ],
      "execution_count": 3,
      "outputs": [
        {
          "output_type": "execute_result",
          "data": {
            "text/plain": [
              "427"
            ]
          },
          "metadata": {},
          "execution_count": 3
        }
      ]
    },
    {
      "cell_type": "markdown",
      "metadata": {
        "id": "jnb23rajEyF3"
      },
      "source": [
        "Split the obtained sample into the training and test sets in a ratio of 80 to 20 (the first 80% of the strings are the training set, and the remaining 20% are the test set). The predictors are the columns Pregnancies, Glucose, BloodPressure, SkinThickness, Insulin, BMI, DiabetesPedigreeFunction, Age. The response is Outcome."
      ]
    },
    {
      "cell_type": "code",
      "metadata": {
        "id": "qfWEhl84Ezwc"
      },
      "source": [
        "train_data = DATA.head(int(len(DATA)*0.8))\n",
        "test_data = DATA.tail(int(len(DATA)*0.2))"
      ],
      "execution_count": 4,
      "outputs": []
    },
    {
      "cell_type": "code",
      "metadata": {
        "id": "_-GxTFahG0bB"
      },
      "source": [
        "predictors = train_data.drop('Outcome', 1)\n",
        "responses = train_data['Outcome']"
      ],
      "execution_count": 5,
      "outputs": []
    },
    {
      "cell_type": "markdown",
      "metadata": {
        "id": "S2YEFBv-GDRa"
      },
      "source": [
        "Train the classifier using DecisionTreeClassifier having the following parameters: criterion='entropy', max_leaf_nodes = 30, min_samples_leaf = 20, and random_state = 2020."
      ]
    },
    {
      "cell_type": "code",
      "metadata": {
        "id": "wHo8ZT1pFfY-"
      },
      "source": [
        "from sklearn.tree import DecisionTreeClassifier\n",
        "tree = DecisionTreeClassifier(criterion='entropy', max_leaf_nodes = 30, min_samples_leaf = 20, random_state = 2020)"
      ],
      "execution_count": 6,
      "outputs": []
    },
    {
      "cell_type": "code",
      "metadata": {
        "id": "Tv9UPhi7Gqs2"
      },
      "source": [
        "model = tree.fit(predictors, responses)"
      ],
      "execution_count": 7,
      "outputs": []
    },
    {
      "cell_type": "markdown",
      "metadata": {
        "id": "OxXOfmxzHt0l"
      },
      "source": [
        "Analyze the obtained decision tree."
      ]
    },
    {
      "cell_type": "markdown",
      "metadata": {
        "id": "Xid-domjHvIF"
      },
      "source": [
        "Enter the tree depth:"
      ]
    },
    {
      "cell_type": "code",
      "metadata": {
        "colab": {
          "base_uri": "https://localhost:8080/"
        },
        "id": "DTkD_t1OHw0N",
        "outputId": "6fe04369-84ac-4a0f-b907-23f3eeaffeec"
      },
      "source": [
        "model.tree_.max_depth"
      ],
      "execution_count": 8,
      "outputs": [
        {
          "output_type": "execute_result",
          "data": {
            "text/plain": [
              "7"
            ]
          },
          "metadata": {},
          "execution_count": 8
        }
      ]
    },
    {
      "cell_type": "markdown",
      "metadata": {
        "id": "Is3uP_urH7-d"
      },
      "source": [
        "Which predictor is used to split the last level of the decision tree (if there are more than one node, enter the name for any of them). Enter the splitting value for the specified predictor, which is rounded to the nearest hundredth.\n"
      ]
    },
    {
      "cell_type": "code",
      "metadata": {
        "colab": {
          "base_uri": "https://localhost:8080/",
          "height": 1000
        },
        "id": "gJIF2pNfIcz1",
        "outputId": "5c84f73c-a134-4813-d0c8-248f4741c635"
      },
      "source": [
        "from sklearn.tree import export_graphviz\n",
        "import graphviz\n",
        "\n",
        "columns = list(predictors.columns)\n",
        "export_graphviz(tree, out_file='tree.dot', feature_names=columns, class_names=['No', 'Yes'], proportion = False, precision = 2, filled = True, label='all')\n",
        "\n",
        "with open('tree.dot') as f:\n",
        "    dot_graph = f.read()\n",
        "\n",
        "graphviz.Source(dot_graph)\n",
        "#Answer - Age <= 37.5 or BloodPressure <= 77.0"
      ],
      "execution_count": 9,
      "outputs": [
        {
          "output_type": "execute_result",
          "data": {
            "text/plain": [
              "<graphviz.files.Source at 0x7f602f72cf50>"
            ],
            "image/svg+xml": "<?xml version=\"1.0\" encoding=\"UTF-8\" standalone=\"no\"?>\n<!DOCTYPE svg PUBLIC \"-//W3C//DTD SVG 1.1//EN\"\n \"http://www.w3.org/Graphics/SVG/1.1/DTD/svg11.dtd\">\n<!-- Generated by graphviz version 2.40.1 (20161225.0304)\n -->\n<!-- Title: Tree Pages: 1 -->\n<svg width=\"1284pt\" height=\"909pt\"\n viewBox=\"0.00 0.00 1283.50 909.00\" xmlns=\"http://www.w3.org/2000/svg\" xmlns:xlink=\"http://www.w3.org/1999/xlink\">\n<g id=\"graph0\" class=\"graph\" transform=\"scale(1 1) rotate(0) translate(4 905)\">\n<title>Tree</title>\n<polygon fill=\"#ffffff\" stroke=\"transparent\" points=\"-4,4 -4,-905 1279.5,-905 1279.5,4 -4,4\"/>\n<!-- 0 -->\n<g id=\"node1\" class=\"node\">\n<title>0</title>\n<polygon fill=\"#f4c8a8\" stroke=\"#000000\" points=\"626.5,-901 501.5,-901 501.5,-818 626.5,-818 626.5,-901\"/>\n<text text-anchor=\"middle\" x=\"564\" y=\"-885.8\" font-family=\"Times,serif\" font-size=\"14.00\" fill=\"#000000\">Glucose &lt;= 154.5</text>\n<text text-anchor=\"middle\" x=\"564\" y=\"-870.8\" font-family=\"Times,serif\" font-size=\"14.00\" fill=\"#000000\">entropy = 0.94</text>\n<text text-anchor=\"middle\" x=\"564\" y=\"-855.8\" font-family=\"Times,serif\" font-size=\"14.00\" fill=\"#000000\">samples = 520</text>\n<text text-anchor=\"middle\" x=\"564\" y=\"-840.8\" font-family=\"Times,serif\" font-size=\"14.00\" fill=\"#000000\">value = [333, 187]</text>\n<text text-anchor=\"middle\" x=\"564\" y=\"-825.8\" font-family=\"Times,serif\" font-size=\"14.00\" fill=\"#000000\">class = No</text>\n</g>\n<!-- 1 -->\n<g id=\"node2\" class=\"node\">\n<title>1</title>\n<polygon fill=\"#efb184\" stroke=\"#000000\" points=\"532.5,-782 407.5,-782 407.5,-699 532.5,-699 532.5,-782\"/>\n<text text-anchor=\"middle\" x=\"470\" y=\"-766.8\" font-family=\"Times,serif\" font-size=\"14.00\" fill=\"#000000\">BMI &lt;= 26.3</text>\n<text text-anchor=\"middle\" x=\"470\" y=\"-751.8\" font-family=\"Times,serif\" font-size=\"14.00\" fill=\"#000000\">entropy = 0.85</text>\n<text text-anchor=\"middle\" x=\"470\" y=\"-736.8\" font-family=\"Times,serif\" font-size=\"14.00\" fill=\"#000000\">samples = 437</text>\n<text text-anchor=\"middle\" x=\"470\" y=\"-721.8\" font-family=\"Times,serif\" font-size=\"14.00\" fill=\"#000000\">value = [317, 120]</text>\n<text text-anchor=\"middle\" x=\"470\" y=\"-706.8\" font-family=\"Times,serif\" font-size=\"14.00\" fill=\"#000000\">class = No</text>\n</g>\n<!-- 0&#45;&gt;1 -->\n<g id=\"edge1\" class=\"edge\">\n<title>0&#45;&gt;1</title>\n<path fill=\"none\" stroke=\"#000000\" d=\"M531.1234,-817.8796C524.0803,-808.9633 516.5707,-799.4565 509.3126,-790.268\"/>\n<polygon fill=\"#000000\" stroke=\"#000000\" points=\"511.9621,-787.9757 503.017,-782.2981 506.4691,-792.3147 511.9621,-787.9757\"/>\n<text text-anchor=\"middle\" x=\"500.1027\" y=\"-803.4276\" font-family=\"Times,serif\" font-size=\"14.00\" fill=\"#000000\">True</text>\n</g>\n<!-- 2 -->\n<g id=\"node33\" class=\"node\">\n<title>2</title>\n<polygon fill=\"#68b4eb\" stroke=\"#000000\" points=\"781.5,-782 564.5,-782 564.5,-699 781.5,-699 781.5,-782\"/>\n<text text-anchor=\"middle\" x=\"673\" y=\"-766.8\" font-family=\"Times,serif\" font-size=\"14.00\" fill=\"#000000\">DiabetesPedigreeFunction &lt;= 0.31</text>\n<text text-anchor=\"middle\" x=\"673\" y=\"-751.8\" font-family=\"Times,serif\" font-size=\"14.00\" fill=\"#000000\">entropy = 0.71</text>\n<text text-anchor=\"middle\" x=\"673\" y=\"-736.8\" font-family=\"Times,serif\" font-size=\"14.00\" fill=\"#000000\">samples = 83</text>\n<text text-anchor=\"middle\" x=\"673\" y=\"-721.8\" font-family=\"Times,serif\" font-size=\"14.00\" fill=\"#000000\">value = [16, 67]</text>\n<text text-anchor=\"middle\" x=\"673\" y=\"-706.8\" font-family=\"Times,serif\" font-size=\"14.00\" fill=\"#000000\">class = Yes</text>\n</g>\n<!-- 0&#45;&gt;2 -->\n<g id=\"edge32\" class=\"edge\">\n<title>0&#45;&gt;2</title>\n<path fill=\"none\" stroke=\"#000000\" d=\"M602.1229,-817.8796C610.4549,-808.7832 619.3498,-799.0722 627.9239,-789.7116\"/>\n<polygon fill=\"#000000\" stroke=\"#000000\" points=\"630.5408,-792.0363 634.7144,-782.2981 625.3789,-787.3081 630.5408,-792.0363\"/>\n<text text-anchor=\"middle\" x=\"635.8098\" y=\"-803.5741\" font-family=\"Times,serif\" font-size=\"14.00\" fill=\"#000000\">False</text>\n</g>\n<!-- 3 -->\n<g id=\"node3\" class=\"node\">\n<title>3</title>\n<polygon fill=\"#e68641\" stroke=\"#000000\" points=\"234.5,-663 113.5,-663 113.5,-580 234.5,-580 234.5,-663\"/>\n<text text-anchor=\"middle\" x=\"174\" y=\"-647.8\" font-family=\"Times,serif\" font-size=\"14.00\" fill=\"#000000\">Glucose &lt;= 106.5</text>\n<text text-anchor=\"middle\" x=\"174\" y=\"-632.8\" font-family=\"Times,serif\" font-size=\"14.00\" fill=\"#000000\">entropy = 0.23</text>\n<text text-anchor=\"middle\" x=\"174\" y=\"-617.8\" font-family=\"Times,serif\" font-size=\"14.00\" fill=\"#000000\">samples = 109</text>\n<text text-anchor=\"middle\" x=\"174\" y=\"-602.8\" font-family=\"Times,serif\" font-size=\"14.00\" fill=\"#000000\">value = [105, 4]</text>\n<text text-anchor=\"middle\" x=\"174\" y=\"-587.8\" font-family=\"Times,serif\" font-size=\"14.00\" fill=\"#000000\">class = No</text>\n</g>\n<!-- 1&#45;&gt;3 -->\n<g id=\"edge2\" class=\"edge\">\n<title>1&#45;&gt;3</title>\n<path fill=\"none\" stroke=\"#000000\" d=\"M407.226,-715.2632C359.3975,-696.0348 293.5553,-669.5645 244.0234,-649.6513\"/>\n<polygon fill=\"#000000\" stroke=\"#000000\" points=\"245.2429,-646.3693 234.659,-645.8866 242.6317,-652.8641 245.2429,-646.3693\"/>\n</g>\n<!-- 4 -->\n<g id=\"node8\" class=\"node\">\n<title>4</title>\n<polygon fill=\"#f3c6a5\" stroke=\"#000000\" points=\"532,-663 408,-663 408,-580 532,-580 532,-663\"/>\n<text text-anchor=\"middle\" x=\"470\" y=\"-647.8\" font-family=\"Times,serif\" font-size=\"14.00\" fill=\"#000000\">Glucose &lt;= 99.5</text>\n<text text-anchor=\"middle\" x=\"470\" y=\"-632.8\" font-family=\"Times,serif\" font-size=\"14.00\" fill=\"#000000\">entropy = 0.94</text>\n<text text-anchor=\"middle\" x=\"470\" y=\"-617.8\" font-family=\"Times,serif\" font-size=\"14.00\" fill=\"#000000\">samples = 328</text>\n<text text-anchor=\"middle\" x=\"470\" y=\"-602.8\" font-family=\"Times,serif\" font-size=\"14.00\" fill=\"#000000\">value = [212, 116]</text>\n<text text-anchor=\"middle\" x=\"470\" y=\"-587.8\" font-family=\"Times,serif\" font-size=\"14.00\" fill=\"#000000\">class = No</text>\n</g>\n<!-- 1&#45;&gt;4 -->\n<g id=\"edge7\" class=\"edge\">\n<title>1&#45;&gt;4</title>\n<path fill=\"none\" stroke=\"#000000\" d=\"M470,-698.8796C470,-690.6838 470,-681.9891 470,-673.5013\"/>\n<polygon fill=\"#000000\" stroke=\"#000000\" points=\"473.5001,-673.298 470,-663.2981 466.5001,-673.2981 473.5001,-673.298\"/>\n</g>\n<!-- 21 -->\n<g id=\"node4\" class=\"node\">\n<title>21</title>\n<polygon fill=\"#e58139\" stroke=\"#000000\" points=\"102,-536.5 0,-536.5 0,-468.5 102,-468.5 102,-536.5\"/>\n<text text-anchor=\"middle\" x=\"51\" y=\"-521.3\" font-family=\"Times,serif\" font-size=\"14.00\" fill=\"#000000\">entropy = 0.0</text>\n<text text-anchor=\"middle\" x=\"51\" y=\"-506.3\" font-family=\"Times,serif\" font-size=\"14.00\" fill=\"#000000\">samples = 59</text>\n<text text-anchor=\"middle\" x=\"51\" y=\"-491.3\" font-family=\"Times,serif\" font-size=\"14.00\" fill=\"#000000\">value = [59, 0]</text>\n<text text-anchor=\"middle\" x=\"51\" y=\"-476.3\" font-family=\"Times,serif\" font-size=\"14.00\" fill=\"#000000\">class = No</text>\n</g>\n<!-- 3&#45;&gt;21 -->\n<g id=\"edge3\" class=\"edge\">\n<title>3&#45;&gt;21</title>\n<path fill=\"none\" stroke=\"#000000\" d=\"M130.9806,-579.8796C118.9329,-568.2237 105.8422,-555.5587 93.8069,-543.9148\"/>\n<polygon fill=\"#000000\" stroke=\"#000000\" points=\"96.089,-541.2528 86.4684,-536.8149 91.2217,-546.2837 96.089,-541.2528\"/>\n</g>\n<!-- 22 -->\n<g id=\"node5\" class=\"node\">\n<title>22</title>\n<polygon fill=\"#e78c4a\" stroke=\"#000000\" points=\"227.5,-544 120.5,-544 120.5,-461 227.5,-461 227.5,-544\"/>\n<text text-anchor=\"middle\" x=\"174\" y=\"-528.8\" font-family=\"Times,serif\" font-size=\"14.00\" fill=\"#000000\">Insulin &lt;= 49.0</text>\n<text text-anchor=\"middle\" x=\"174\" y=\"-513.8\" font-family=\"Times,serif\" font-size=\"14.00\" fill=\"#000000\">entropy = 0.4</text>\n<text text-anchor=\"middle\" x=\"174\" y=\"-498.8\" font-family=\"Times,serif\" font-size=\"14.00\" fill=\"#000000\">samples = 50</text>\n<text text-anchor=\"middle\" x=\"174\" y=\"-483.8\" font-family=\"Times,serif\" font-size=\"14.00\" fill=\"#000000\">value = [46, 4]</text>\n<text text-anchor=\"middle\" x=\"174\" y=\"-468.8\" font-family=\"Times,serif\" font-size=\"14.00\" fill=\"#000000\">class = No</text>\n</g>\n<!-- 3&#45;&gt;22 -->\n<g id=\"edge4\" class=\"edge\">\n<title>3&#45;&gt;22</title>\n<path fill=\"none\" stroke=\"#000000\" d=\"M174,-579.8796C174,-571.6838 174,-562.9891 174,-554.5013\"/>\n<polygon fill=\"#000000\" stroke=\"#000000\" points=\"177.5001,-554.298 174,-544.2981 170.5001,-554.2981 177.5001,-554.298\"/>\n</g>\n<!-- 23 -->\n<g id=\"node6\" class=\"node\">\n<title>23</title>\n<polygon fill=\"#ea985d\" stroke=\"#000000\" points=\"104.5,-417.5 1.5,-417.5 1.5,-349.5 104.5,-349.5 104.5,-417.5\"/>\n<text text-anchor=\"middle\" x=\"53\" y=\"-402.3\" font-family=\"Times,serif\" font-size=\"14.00\" fill=\"#000000\">entropy = 0.62</text>\n<text text-anchor=\"middle\" x=\"53\" y=\"-387.3\" font-family=\"Times,serif\" font-size=\"14.00\" fill=\"#000000\">samples = 26</text>\n<text text-anchor=\"middle\" x=\"53\" y=\"-372.3\" font-family=\"Times,serif\" font-size=\"14.00\" fill=\"#000000\">value = [22, 4]</text>\n<text text-anchor=\"middle\" x=\"53\" y=\"-357.3\" font-family=\"Times,serif\" font-size=\"14.00\" fill=\"#000000\">class = No</text>\n</g>\n<!-- 22&#45;&gt;23 -->\n<g id=\"edge5\" class=\"edge\">\n<title>22&#45;&gt;23</title>\n<path fill=\"none\" stroke=\"#000000\" d=\"M131.6801,-460.8796C119.8283,-449.2237 106.9505,-436.5587 95.1109,-424.9148\"/>\n<polygon fill=\"#000000\" stroke=\"#000000\" points=\"97.4756,-422.3314 87.8917,-417.8149 92.5673,-427.3223 97.4756,-422.3314\"/>\n</g>\n<!-- 24 -->\n<g id=\"node7\" class=\"node\">\n<title>24</title>\n<polygon fill=\"#e58139\" stroke=\"#000000\" points=\"225,-417.5 123,-417.5 123,-349.5 225,-349.5 225,-417.5\"/>\n<text text-anchor=\"middle\" x=\"174\" y=\"-402.3\" font-family=\"Times,serif\" font-size=\"14.00\" fill=\"#000000\">entropy = 0.0</text>\n<text text-anchor=\"middle\" x=\"174\" y=\"-387.3\" font-family=\"Times,serif\" font-size=\"14.00\" fill=\"#000000\">samples = 24</text>\n<text text-anchor=\"middle\" x=\"174\" y=\"-372.3\" font-family=\"Times,serif\" font-size=\"14.00\" fill=\"#000000\">value = [24, 0]</text>\n<text text-anchor=\"middle\" x=\"174\" y=\"-357.3\" font-family=\"Times,serif\" font-size=\"14.00\" fill=\"#000000\">class = No</text>\n</g>\n<!-- 22&#45;&gt;24 -->\n<g id=\"edge6\" class=\"edge\">\n<title>22&#45;&gt;24</title>\n<path fill=\"none\" stroke=\"#000000\" d=\"M174,-460.8796C174,-450.2134 174,-438.7021 174,-427.9015\"/>\n<polygon fill=\"#000000\" stroke=\"#000000\" points=\"177.5001,-427.8149 174,-417.8149 170.5001,-427.815 177.5001,-427.8149\"/>\n</g>\n<!-- 5 -->\n<g id=\"node9\" class=\"node\">\n<title>5</title>\n<polygon fill=\"#e99254\" stroke=\"#000000\" points=\"522.5,-544 413.5,-544 413.5,-461 522.5,-461 522.5,-544\"/>\n<text text-anchor=\"middle\" x=\"468\" y=\"-528.8\" font-family=\"Times,serif\" font-size=\"14.00\" fill=\"#000000\">Age &lt;= 25.5</text>\n<text text-anchor=\"middle\" x=\"468\" y=\"-513.8\" font-family=\"Times,serif\" font-size=\"14.00\" fill=\"#000000\">entropy = 0.53</text>\n<text text-anchor=\"middle\" x=\"468\" y=\"-498.8\" font-family=\"Times,serif\" font-size=\"14.00\" fill=\"#000000\">samples = 91</text>\n<text text-anchor=\"middle\" x=\"468\" y=\"-483.8\" font-family=\"Times,serif\" font-size=\"14.00\" fill=\"#000000\">value = [80, 11]</text>\n<text text-anchor=\"middle\" x=\"468\" y=\"-468.8\" font-family=\"Times,serif\" font-size=\"14.00\" fill=\"#000000\">class = No</text>\n</g>\n<!-- 4&#45;&gt;5 -->\n<g id=\"edge8\" class=\"edge\">\n<title>4&#45;&gt;5</title>\n<path fill=\"none\" stroke=\"#000000\" d=\"M469.3005,-579.8796C469.1628,-571.6838 469.0166,-562.9891 468.874,-554.5013\"/>\n<polygon fill=\"#000000\" stroke=\"#000000\" points=\"472.3701,-554.2378 468.7025,-544.2981 465.3711,-554.3555 472.3701,-554.2378\"/>\n</g>\n<!-- 6 -->\n<g id=\"node16\" class=\"node\">\n<title>6</title>\n<polygon fill=\"#fae5d7\" stroke=\"#000000\" points=\"736.5,-544 611.5,-544 611.5,-461 736.5,-461 736.5,-544\"/>\n<text text-anchor=\"middle\" x=\"674\" y=\"-528.8\" font-family=\"Times,serif\" font-size=\"14.00\" fill=\"#000000\">Age &lt;= 28.5</text>\n<text text-anchor=\"middle\" x=\"674\" y=\"-513.8\" font-family=\"Times,serif\" font-size=\"14.00\" fill=\"#000000\">entropy = 0.99</text>\n<text text-anchor=\"middle\" x=\"674\" y=\"-498.8\" font-family=\"Times,serif\" font-size=\"14.00\" fill=\"#000000\">samples = 237</text>\n<text text-anchor=\"middle\" x=\"674\" y=\"-483.8\" font-family=\"Times,serif\" font-size=\"14.00\" fill=\"#000000\">value = [132, 105]</text>\n<text text-anchor=\"middle\" x=\"674\" y=\"-468.8\" font-family=\"Times,serif\" font-size=\"14.00\" fill=\"#000000\">class = No</text>\n</g>\n<!-- 4&#45;&gt;6 -->\n<g id=\"edge15\" class=\"edge\">\n<title>4&#45;&gt;6</title>\n<path fill=\"none\" stroke=\"#000000\" d=\"M532.0376,-585.3114C554.2815,-572.3358 579.5372,-557.6033 602.5168,-544.1985\"/>\n<polygon fill=\"#000000\" stroke=\"#000000\" points=\"604.3273,-547.1944 611.2015,-539.1324 600.8002,-541.148 604.3273,-547.1944\"/>\n</g>\n<!-- 9 -->\n<g id=\"node10\" class=\"node\">\n<title>9</title>\n<polygon fill=\"#e6843d\" stroke=\"#000000\" points=\"346.5,-425 243.5,-425 243.5,-342 346.5,-342 346.5,-425\"/>\n<text text-anchor=\"middle\" x=\"295\" y=\"-409.8\" font-family=\"Times,serif\" font-size=\"14.00\" fill=\"#000000\">BMI &lt;= 32.15</text>\n<text text-anchor=\"middle\" x=\"295\" y=\"-394.8\" font-family=\"Times,serif\" font-size=\"14.00\" fill=\"#000000\">entropy = 0.15</text>\n<text text-anchor=\"middle\" x=\"295\" y=\"-379.8\" font-family=\"Times,serif\" font-size=\"14.00\" fill=\"#000000\">samples = 47</text>\n<text text-anchor=\"middle\" x=\"295\" y=\"-364.8\" font-family=\"Times,serif\" font-size=\"14.00\" fill=\"#000000\">value = [46, 1]</text>\n<text text-anchor=\"middle\" x=\"295\" y=\"-349.8\" font-family=\"Times,serif\" font-size=\"14.00\" fill=\"#000000\">class = No</text>\n</g>\n<!-- 5&#45;&gt;9 -->\n<g id=\"edge9\" class=\"edge\">\n<title>5&#45;&gt;9</title>\n<path fill=\"none\" stroke=\"#000000\" d=\"M413.2617,-464.8477C394.7221,-452.095 373.9219,-437.7873 354.9957,-424.7687\"/>\n<polygon fill=\"#000000\" stroke=\"#000000\" points=\"356.9525,-421.8667 346.7299,-419.083 352.9854,-427.634 356.9525,-421.8667\"/>\n</g>\n<!-- 10 -->\n<g id=\"node13\" class=\"node\">\n<title>10</title>\n<polygon fill=\"#eda673\" stroke=\"#000000\" points=\"543,-425 393,-425 393,-342 543,-342 543,-425\"/>\n<text text-anchor=\"middle\" x=\"468\" y=\"-409.8\" font-family=\"Times,serif\" font-size=\"14.00\" fill=\"#000000\">BloodPressure &lt;= 73.0</text>\n<text text-anchor=\"middle\" x=\"468\" y=\"-394.8\" font-family=\"Times,serif\" font-size=\"14.00\" fill=\"#000000\">entropy = 0.77</text>\n<text text-anchor=\"middle\" x=\"468\" y=\"-379.8\" font-family=\"Times,serif\" font-size=\"14.00\" fill=\"#000000\">samples = 44</text>\n<text text-anchor=\"middle\" x=\"468\" y=\"-364.8\" font-family=\"Times,serif\" font-size=\"14.00\" fill=\"#000000\">value = [34, 10]</text>\n<text text-anchor=\"middle\" x=\"468\" y=\"-349.8\" font-family=\"Times,serif\" font-size=\"14.00\" fill=\"#000000\">class = No</text>\n</g>\n<!-- 5&#45;&gt;10 -->\n<g id=\"edge12\" class=\"edge\">\n<title>5&#45;&gt;10</title>\n<path fill=\"none\" stroke=\"#000000\" d=\"M468,-460.8796C468,-452.6838 468,-443.9891 468,-435.5013\"/>\n<polygon fill=\"#000000\" stroke=\"#000000\" points=\"471.5001,-435.298 468,-425.2981 464.5001,-435.2981 471.5001,-435.298\"/>\n</g>\n<!-- 33 -->\n<g id=\"node11\" class=\"node\">\n<title>33</title>\n<polygon fill=\"#e58139\" stroke=\"#000000\" points=\"223,-298.5 121,-298.5 121,-230.5 223,-230.5 223,-298.5\"/>\n<text text-anchor=\"middle\" x=\"172\" y=\"-283.3\" font-family=\"Times,serif\" font-size=\"14.00\" fill=\"#000000\">entropy = 0.0</text>\n<text text-anchor=\"middle\" x=\"172\" y=\"-268.3\" font-family=\"Times,serif\" font-size=\"14.00\" fill=\"#000000\">samples = 27</text>\n<text text-anchor=\"middle\" x=\"172\" y=\"-253.3\" font-family=\"Times,serif\" font-size=\"14.00\" fill=\"#000000\">value = [27, 0]</text>\n<text text-anchor=\"middle\" x=\"172\" y=\"-238.3\" font-family=\"Times,serif\" font-size=\"14.00\" fill=\"#000000\">class = No</text>\n</g>\n<!-- 9&#45;&gt;33 -->\n<g id=\"edge10\" class=\"edge\">\n<title>9&#45;&gt;33</title>\n<path fill=\"none\" stroke=\"#000000\" d=\"M251.9806,-341.8796C239.9329,-330.2237 226.8422,-317.5587 214.8069,-305.9148\"/>\n<polygon fill=\"#000000\" stroke=\"#000000\" points=\"217.089,-303.2528 207.4684,-298.8149 212.2217,-308.2837 217.089,-303.2528\"/>\n</g>\n<!-- 34 -->\n<g id=\"node12\" class=\"node\">\n<title>34</title>\n<polygon fill=\"#e68843\" stroke=\"#000000\" points=\"344.5,-298.5 241.5,-298.5 241.5,-230.5 344.5,-230.5 344.5,-298.5\"/>\n<text text-anchor=\"middle\" x=\"293\" y=\"-283.3\" font-family=\"Times,serif\" font-size=\"14.00\" fill=\"#000000\">entropy = 0.29</text>\n<text text-anchor=\"middle\" x=\"293\" y=\"-268.3\" font-family=\"Times,serif\" font-size=\"14.00\" fill=\"#000000\">samples = 20</text>\n<text text-anchor=\"middle\" x=\"293\" y=\"-253.3\" font-family=\"Times,serif\" font-size=\"14.00\" fill=\"#000000\">value = [19, 1]</text>\n<text text-anchor=\"middle\" x=\"293\" y=\"-238.3\" font-family=\"Times,serif\" font-size=\"14.00\" fill=\"#000000\">class = No</text>\n</g>\n<!-- 9&#45;&gt;34 -->\n<g id=\"edge11\" class=\"edge\">\n<title>9&#45;&gt;34</title>\n<path fill=\"none\" stroke=\"#000000\" d=\"M294.3005,-341.8796C294.1212,-331.2134 293.9278,-319.7021 293.7462,-308.9015\"/>\n<polygon fill=\"#000000\" stroke=\"#000000\" points=\"297.2444,-308.7547 293.5767,-298.8149 290.2454,-308.8724 297.2444,-308.7547\"/>\n</g>\n<!-- 25 -->\n<g id=\"node14\" class=\"node\">\n<title>25</title>\n<polygon fill=\"#f3c5a4\" stroke=\"#000000\" points=\"465.5,-298.5 362.5,-298.5 362.5,-230.5 465.5,-230.5 465.5,-298.5\"/>\n<text text-anchor=\"middle\" x=\"414\" y=\"-283.3\" font-family=\"Times,serif\" font-size=\"14.00\" fill=\"#000000\">entropy = 0.93</text>\n<text text-anchor=\"middle\" x=\"414\" y=\"-268.3\" font-family=\"Times,serif\" font-size=\"14.00\" fill=\"#000000\">samples = 20</text>\n<text text-anchor=\"middle\" x=\"414\" y=\"-253.3\" font-family=\"Times,serif\" font-size=\"14.00\" fill=\"#000000\">value = [13, 7]</text>\n<text text-anchor=\"middle\" x=\"414\" y=\"-238.3\" font-family=\"Times,serif\" font-size=\"14.00\" fill=\"#000000\">class = No</text>\n</g>\n<!-- 10&#45;&gt;25 -->\n<g id=\"edge13\" class=\"edge\">\n<title>10&#45;&gt;25</title>\n<path fill=\"none\" stroke=\"#000000\" d=\"M449.1134,-341.8796C444.1735,-330.9935 438.8341,-319.227 433.8459,-308.2344\"/>\n<polygon fill=\"#000000\" stroke=\"#000000\" points=\"436.891,-306.4749 429.5715,-298.8149 430.5166,-309.3675 436.891,-306.4749\"/>\n</g>\n<!-- 26 -->\n<g id=\"node15\" class=\"node\">\n<title>26</title>\n<polygon fill=\"#e99355\" stroke=\"#000000\" points=\"586.5,-298.5 483.5,-298.5 483.5,-230.5 586.5,-230.5 586.5,-298.5\"/>\n<text text-anchor=\"middle\" x=\"535\" y=\"-283.3\" font-family=\"Times,serif\" font-size=\"14.00\" fill=\"#000000\">entropy = 0.54</text>\n<text text-anchor=\"middle\" x=\"535\" y=\"-268.3\" font-family=\"Times,serif\" font-size=\"14.00\" fill=\"#000000\">samples = 24</text>\n<text text-anchor=\"middle\" x=\"535\" y=\"-253.3\" font-family=\"Times,serif\" font-size=\"14.00\" fill=\"#000000\">value = [21, 3]</text>\n<text text-anchor=\"middle\" x=\"535\" y=\"-238.3\" font-family=\"Times,serif\" font-size=\"14.00\" fill=\"#000000\">class = No</text>\n</g>\n<!-- 10&#45;&gt;26 -->\n<g id=\"edge14\" class=\"edge\">\n<title>10&#45;&gt;26</title>\n<path fill=\"none\" stroke=\"#000000\" d=\"M491.4333,-341.8796C497.6863,-330.7735 504.4552,-318.7513 510.751,-307.5691\"/>\n<polygon fill=\"#000000\" stroke=\"#000000\" points=\"513.8235,-309.2459 515.6798,-298.8149 507.7239,-305.8116 513.8235,-309.2459\"/>\n</g>\n<!-- 7 -->\n<g id=\"node17\" class=\"node\">\n<title>7</title>\n<polygon fill=\"#f0b78e\" stroke=\"#000000\" points=\"741.5,-425 620.5,-425 620.5,-342 741.5,-342 741.5,-425\"/>\n<text text-anchor=\"middle\" x=\"681\" y=\"-409.8\" font-family=\"Times,serif\" font-size=\"14.00\" fill=\"#000000\">Glucose &lt;= 127.5</text>\n<text text-anchor=\"middle\" x=\"681\" y=\"-394.8\" font-family=\"Times,serif\" font-size=\"14.00\" fill=\"#000000\">entropy = 0.88</text>\n<text text-anchor=\"middle\" x=\"681\" y=\"-379.8\" font-family=\"Times,serif\" font-size=\"14.00\" fill=\"#000000\">samples = 93</text>\n<text text-anchor=\"middle\" x=\"681\" y=\"-364.8\" font-family=\"Times,serif\" font-size=\"14.00\" fill=\"#000000\">value = [65, 28]</text>\n<text text-anchor=\"middle\" x=\"681\" y=\"-349.8\" font-family=\"Times,serif\" font-size=\"14.00\" fill=\"#000000\">class = No</text>\n</g>\n<!-- 6&#45;&gt;7 -->\n<g id=\"edge16\" class=\"edge\">\n<title>6&#45;&gt;7</title>\n<path fill=\"none\" stroke=\"#000000\" d=\"M676.4483,-460.8796C676.9304,-452.6838 677.4418,-443.9891 677.9411,-435.5013\"/>\n<polygon fill=\"#000000\" stroke=\"#000000\" points=\"681.4479,-435.4864 678.5413,-425.2981 674.46,-435.0753 681.4479,-435.4864\"/>\n</g>\n<!-- 8 -->\n<g id=\"node22\" class=\"node\">\n<title>8</title>\n<polygon fill=\"#e5f2fc\" stroke=\"#000000\" points=\"1066.5,-425 849.5,-425 849.5,-342 1066.5,-342 1066.5,-425\"/>\n<text text-anchor=\"middle\" x=\"958\" y=\"-409.8\" font-family=\"Times,serif\" font-size=\"14.00\" fill=\"#000000\">DiabetesPedigreeFunction &lt;= 0.51</text>\n<text text-anchor=\"middle\" x=\"958\" y=\"-394.8\" font-family=\"Times,serif\" font-size=\"14.00\" fill=\"#000000\">entropy = 1.0</text>\n<text text-anchor=\"middle\" x=\"958\" y=\"-379.8\" font-family=\"Times,serif\" font-size=\"14.00\" fill=\"#000000\">samples = 144</text>\n<text text-anchor=\"middle\" x=\"958\" y=\"-364.8\" font-family=\"Times,serif\" font-size=\"14.00\" fill=\"#000000\">value = [67, 77]</text>\n<text text-anchor=\"middle\" x=\"958\" y=\"-349.8\" font-family=\"Times,serif\" font-size=\"14.00\" fill=\"#000000\">class = Yes</text>\n</g>\n<!-- 6&#45;&gt;8 -->\n<g id=\"edge21\" class=\"edge\">\n<title>6&#45;&gt;8</title>\n<path fill=\"none\" stroke=\"#000000\" d=\"M736.784,-465.0133C739.5394,-463.6187 742.286,-462.2743 745,-461 775.1019,-446.867 808.541,-433.6196 839.8337,-422.2131\"/>\n<polygon fill=\"#000000\" stroke=\"#000000\" points=\"841.2535,-425.4217 849.4703,-418.7333 838.876,-418.8378 841.2535,-425.4217\"/>\n</g>\n<!-- 19 -->\n<g id=\"node18\" class=\"node\">\n<title>19</title>\n<polygon fill=\"#eca06a\" stroke=\"#000000\" points=\"757,-306 605,-306 605,-223 757,-223 757,-306\"/>\n<text text-anchor=\"middle\" x=\"681\" y=\"-290.8\" font-family=\"Times,serif\" font-size=\"14.00\" fill=\"#000000\">SkinThickness &lt;= 29.5</text>\n<text text-anchor=\"middle\" x=\"681\" y=\"-275.8\" font-family=\"Times,serif\" font-size=\"14.00\" fill=\"#000000\">entropy = 0.72</text>\n<text text-anchor=\"middle\" x=\"681\" y=\"-260.8\" font-family=\"Times,serif\" font-size=\"14.00\" fill=\"#000000\">samples = 55</text>\n<text text-anchor=\"middle\" x=\"681\" y=\"-245.8\" font-family=\"Times,serif\" font-size=\"14.00\" fill=\"#000000\">value = [44, 11]</text>\n<text text-anchor=\"middle\" x=\"681\" y=\"-230.8\" font-family=\"Times,serif\" font-size=\"14.00\" fill=\"#000000\">class = No</text>\n</g>\n<!-- 7&#45;&gt;19 -->\n<g id=\"edge17\" class=\"edge\">\n<title>7&#45;&gt;19</title>\n<path fill=\"none\" stroke=\"#000000\" d=\"M681,-341.8796C681,-333.6838 681,-324.9891 681,-316.5013\"/>\n<polygon fill=\"#000000\" stroke=\"#000000\" points=\"684.5001,-316.298 681,-306.2981 677.5001,-316.2981 684.5001,-316.298\"/>\n</g>\n<!-- 20 -->\n<g id=\"node21\" class=\"node\">\n<title>20</title>\n<polygon fill=\"#fae7d9\" stroke=\"#000000\" points=\"885,-298.5 775,-298.5 775,-230.5 885,-230.5 885,-298.5\"/>\n<text text-anchor=\"middle\" x=\"830\" y=\"-283.3\" font-family=\"Times,serif\" font-size=\"14.00\" fill=\"#000000\">entropy = 0.99</text>\n<text text-anchor=\"middle\" x=\"830\" y=\"-268.3\" font-family=\"Times,serif\" font-size=\"14.00\" fill=\"#000000\">samples = 38</text>\n<text text-anchor=\"middle\" x=\"830\" y=\"-253.3\" font-family=\"Times,serif\" font-size=\"14.00\" fill=\"#000000\">value = [21, 17]</text>\n<text text-anchor=\"middle\" x=\"830\" y=\"-238.3\" font-family=\"Times,serif\" font-size=\"14.00\" fill=\"#000000\">class = No</text>\n</g>\n<!-- 7&#45;&gt;20 -->\n<g id=\"edge20\" class=\"edge\">\n<title>7&#45;&gt;20</title>\n<path fill=\"none\" stroke=\"#000000\" d=\"M733.113,-341.8796C747.9826,-330.0038 764.164,-317.0804 778.9683,-305.2568\"/>\n<polygon fill=\"#000000\" stroke=\"#000000\" points=\"781.4046,-307.7904 787.0342,-298.8149 777.0362,-302.3207 781.4046,-307.7904\"/>\n</g>\n<!-- 27 -->\n<g id=\"node19\" class=\"node\">\n<title>27</title>\n<polygon fill=\"#e89051\" stroke=\"#000000\" points=\"613.5,-179.5 510.5,-179.5 510.5,-111.5 613.5,-111.5 613.5,-179.5\"/>\n<text text-anchor=\"middle\" x=\"562\" y=\"-164.3\" font-family=\"Times,serif\" font-size=\"14.00\" fill=\"#000000\">entropy = 0.49</text>\n<text text-anchor=\"middle\" x=\"562\" y=\"-149.3\" font-family=\"Times,serif\" font-size=\"14.00\" fill=\"#000000\">samples = 28</text>\n<text text-anchor=\"middle\" x=\"562\" y=\"-134.3\" font-family=\"Times,serif\" font-size=\"14.00\" fill=\"#000000\">value = [25, 3]</text>\n<text text-anchor=\"middle\" x=\"562\" y=\"-119.3\" font-family=\"Times,serif\" font-size=\"14.00\" fill=\"#000000\">class = No</text>\n</g>\n<!-- 19&#45;&gt;27 -->\n<g id=\"edge18\" class=\"edge\">\n<title>19&#45;&gt;27</title>\n<path fill=\"none\" stroke=\"#000000\" d=\"M639.3796,-222.8796C627.7237,-211.2237 615.0587,-198.5587 603.4148,-186.9148\"/>\n<polygon fill=\"#000000\" stroke=\"#000000\" points=\"605.8609,-184.4111 596.3149,-179.8149 600.9111,-189.3609 605.8609,-184.4111\"/>\n</g>\n<!-- 28 -->\n<g id=\"node20\" class=\"node\">\n<title>28</title>\n<polygon fill=\"#f0b68c\" stroke=\"#000000\" points=\"734.5,-179.5 631.5,-179.5 631.5,-111.5 734.5,-111.5 734.5,-179.5\"/>\n<text text-anchor=\"middle\" x=\"683\" y=\"-164.3\" font-family=\"Times,serif\" font-size=\"14.00\" fill=\"#000000\">entropy = 0.88</text>\n<text text-anchor=\"middle\" x=\"683\" y=\"-149.3\" font-family=\"Times,serif\" font-size=\"14.00\" fill=\"#000000\">samples = 27</text>\n<text text-anchor=\"middle\" x=\"683\" y=\"-134.3\" font-family=\"Times,serif\" font-size=\"14.00\" fill=\"#000000\">value = [19, 8]</text>\n<text text-anchor=\"middle\" x=\"683\" y=\"-119.3\" font-family=\"Times,serif\" font-size=\"14.00\" fill=\"#000000\">class = No</text>\n</g>\n<!-- 19&#45;&gt;28 -->\n<g id=\"edge19\" class=\"edge\">\n<title>19&#45;&gt;28</title>\n<path fill=\"none\" stroke=\"#000000\" d=\"M681.6995,-222.8796C681.8788,-212.2134 682.0722,-200.7021 682.2538,-189.9015\"/>\n<polygon fill=\"#000000\" stroke=\"#000000\" points=\"685.7546,-189.8724 682.4233,-179.8149 678.7556,-189.7547 685.7546,-189.8724\"/>\n</g>\n<!-- 11 -->\n<g id=\"node23\" class=\"node\">\n<title>11</title>\n<polygon fill=\"#f9e2d2\" stroke=\"#000000\" points=\"1013,-306 903,-306 903,-223 1013,-223 1013,-306\"/>\n<text text-anchor=\"middle\" x=\"958\" y=\"-290.8\" font-family=\"Times,serif\" font-size=\"14.00\" fill=\"#000000\">BMI &lt;= 33.0</text>\n<text text-anchor=\"middle\" x=\"958\" y=\"-275.8\" font-family=\"Times,serif\" font-size=\"14.00\" fill=\"#000000\">entropy = 0.99</text>\n<text text-anchor=\"middle\" x=\"958\" y=\"-260.8\" font-family=\"Times,serif\" font-size=\"14.00\" fill=\"#000000\">samples = 85</text>\n<text text-anchor=\"middle\" x=\"958\" y=\"-245.8\" font-family=\"Times,serif\" font-size=\"14.00\" fill=\"#000000\">value = [48, 37]</text>\n<text text-anchor=\"middle\" x=\"958\" y=\"-230.8\" font-family=\"Times,serif\" font-size=\"14.00\" fill=\"#000000\">class = No</text>\n</g>\n<!-- 8&#45;&gt;11 -->\n<g id=\"edge22\" class=\"edge\">\n<title>8&#45;&gt;11</title>\n<path fill=\"none\" stroke=\"#000000\" d=\"M958,-341.8796C958,-333.6838 958,-324.9891 958,-316.5013\"/>\n<polygon fill=\"#000000\" stroke=\"#000000\" points=\"961.5001,-316.298 958,-306.2981 954.5001,-316.2981 961.5001,-316.298\"/>\n</g>\n<!-- 12 -->\n<g id=\"node30\" class=\"node\">\n<title>12</title>\n<polygon fill=\"#97ccf1\" stroke=\"#000000\" points=\"1158,-306 1048,-306 1048,-223 1158,-223 1158,-306\"/>\n<text text-anchor=\"middle\" x=\"1103\" y=\"-290.8\" font-family=\"Times,serif\" font-size=\"14.00\" fill=\"#000000\">BMI &lt;= 31.4</text>\n<text text-anchor=\"middle\" x=\"1103\" y=\"-275.8\" font-family=\"Times,serif\" font-size=\"14.00\" fill=\"#000000\">entropy = 0.91</text>\n<text text-anchor=\"middle\" x=\"1103\" y=\"-260.8\" font-family=\"Times,serif\" font-size=\"14.00\" fill=\"#000000\">samples = 59</text>\n<text text-anchor=\"middle\" x=\"1103\" y=\"-245.8\" font-family=\"Times,serif\" font-size=\"14.00\" fill=\"#000000\">value = [19, 40]</text>\n<text text-anchor=\"middle\" x=\"1103\" y=\"-230.8\" font-family=\"Times,serif\" font-size=\"14.00\" fill=\"#000000\">class = Yes</text>\n</g>\n<!-- 8&#45;&gt;12 -->\n<g id=\"edge29\" class=\"edge\">\n<title>8&#45;&gt;12</title>\n<path fill=\"none\" stroke=\"#000000\" d=\"M1008.714,-341.8796C1020.127,-332.513 1032.3341,-322.4948 1044.0515,-312.8784\"/>\n<polygon fill=\"#000000\" stroke=\"#000000\" points=\"1046.5599,-315.3476 1052.0696,-306.2981 1042.1191,-309.9366 1046.5599,-315.3476\"/>\n</g>\n<!-- 29 -->\n<g id=\"node24\" class=\"node\">\n<title>29</title>\n<polygon fill=\"#ecf6fd\" stroke=\"#000000\" points=\"865,-187 755,-187 755,-104 865,-104 865,-187\"/>\n<text text-anchor=\"middle\" x=\"810\" y=\"-171.8\" font-family=\"Times,serif\" font-size=\"14.00\" fill=\"#000000\">Age &lt;= 37.5</text>\n<text text-anchor=\"middle\" x=\"810\" y=\"-156.8\" font-family=\"Times,serif\" font-size=\"14.00\" fill=\"#000000\">entropy = 1.0</text>\n<text text-anchor=\"middle\" x=\"810\" y=\"-141.8\" font-family=\"Times,serif\" font-size=\"14.00\" fill=\"#000000\">samples = 40</text>\n<text text-anchor=\"middle\" x=\"810\" y=\"-126.8\" font-family=\"Times,serif\" font-size=\"14.00\" fill=\"#000000\">value = [19, 21]</text>\n<text text-anchor=\"middle\" x=\"810\" y=\"-111.8\" font-family=\"Times,serif\" font-size=\"14.00\" fill=\"#000000\">class = Yes</text>\n</g>\n<!-- 11&#45;&gt;29 -->\n<g id=\"edge23\" class=\"edge\">\n<title>11&#45;&gt;29</title>\n<path fill=\"none\" stroke=\"#000000\" d=\"M906.2368,-222.8796C894.4072,-213.368 881.7419,-203.1843 869.6129,-193.432\"/>\n<polygon fill=\"#000000\" stroke=\"#000000\" points=\"871.7204,-190.6355 861.734,-187.0969 867.3341,-196.0908 871.7204,-190.6355\"/>\n</g>\n<!-- 30 -->\n<g id=\"node27\" class=\"node\">\n<title>30</title>\n<polygon fill=\"#f3c7a6\" stroke=\"#000000\" points=\"1033,-187 883,-187 883,-104 1033,-104 1033,-187\"/>\n<text text-anchor=\"middle\" x=\"958\" y=\"-171.8\" font-family=\"Times,serif\" font-size=\"14.00\" fill=\"#000000\">BloodPressure &lt;= 77.0</text>\n<text text-anchor=\"middle\" x=\"958\" y=\"-156.8\" font-family=\"Times,serif\" font-size=\"14.00\" fill=\"#000000\">entropy = 0.94</text>\n<text text-anchor=\"middle\" x=\"958\" y=\"-141.8\" font-family=\"Times,serif\" font-size=\"14.00\" fill=\"#000000\">samples = 45</text>\n<text text-anchor=\"middle\" x=\"958\" y=\"-126.8\" font-family=\"Times,serif\" font-size=\"14.00\" fill=\"#000000\">value = [29, 16]</text>\n<text text-anchor=\"middle\" x=\"958\" y=\"-111.8\" font-family=\"Times,serif\" font-size=\"14.00\" fill=\"#000000\">class = No</text>\n</g>\n<!-- 11&#45;&gt;30 -->\n<g id=\"edge26\" class=\"edge\">\n<title>11&#45;&gt;30</title>\n<path fill=\"none\" stroke=\"#000000\" d=\"M958,-222.8796C958,-214.6838 958,-205.9891 958,-197.5013\"/>\n<polygon fill=\"#000000\" stroke=\"#000000\" points=\"961.5001,-197.298 958,-187.2981 954.5001,-197.2981 961.5001,-197.298\"/>\n</g>\n<!-- 35 -->\n<g id=\"node25\" class=\"node\">\n<title>35</title>\n<polygon fill=\"#dbedfa\" stroke=\"#000000\" points=\"742.5,-68 639.5,-68 639.5,0 742.5,0 742.5,-68\"/>\n<text text-anchor=\"middle\" x=\"691\" y=\"-52.8\" font-family=\"Times,serif\" font-size=\"14.00\" fill=\"#000000\">entropy = 0.99</text>\n<text text-anchor=\"middle\" x=\"691\" y=\"-37.8\" font-family=\"Times,serif\" font-size=\"14.00\" fill=\"#000000\">samples = 20</text>\n<text text-anchor=\"middle\" x=\"691\" y=\"-22.8\" font-family=\"Times,serif\" font-size=\"14.00\" fill=\"#000000\">value = [9, 11]</text>\n<text text-anchor=\"middle\" x=\"691\" y=\"-7.8\" font-family=\"Times,serif\" font-size=\"14.00\" fill=\"#000000\">class = Yes</text>\n</g>\n<!-- 29&#45;&gt;35 -->\n<g id=\"edge24\" class=\"edge\">\n<title>29&#45;&gt;35</title>\n<path fill=\"none\" stroke=\"#000000\" d=\"M765.6888,-103.9815C755.6837,-94.607 745.0646,-84.6572 735.0696,-75.2921\"/>\n<polygon fill=\"#000000\" stroke=\"#000000\" points=\"737.2588,-72.547 727.5684,-68.2637 732.4726,-77.6551 737.2588,-72.547\"/>\n</g>\n<!-- 36 -->\n<g id=\"node26\" class=\"node\">\n<title>36</title>\n<polygon fill=\"#ffffff\" stroke=\"#000000\" points=\"871,-68 761,-68 761,0 871,0 871,-68\"/>\n<text text-anchor=\"middle\" x=\"816\" y=\"-52.8\" font-family=\"Times,serif\" font-size=\"14.00\" fill=\"#000000\">entropy = 1.0</text>\n<text text-anchor=\"middle\" x=\"816\" y=\"-37.8\" font-family=\"Times,serif\" font-size=\"14.00\" fill=\"#000000\">samples = 20</text>\n<text text-anchor=\"middle\" x=\"816\" y=\"-22.8\" font-family=\"Times,serif\" font-size=\"14.00\" fill=\"#000000\">value = [10, 10]</text>\n<text text-anchor=\"middle\" x=\"816\" y=\"-7.8\" font-family=\"Times,serif\" font-size=\"14.00\" fill=\"#000000\">class = No</text>\n</g>\n<!-- 29&#45;&gt;36 -->\n<g id=\"edge25\" class=\"edge\">\n<title>29&#45;&gt;36</title>\n<path fill=\"none\" stroke=\"#000000\" d=\"M812.2342,-103.9815C812.6842,-95.618 813.1589,-86.7965 813.6139,-78.3409\"/>\n<polygon fill=\"#000000\" stroke=\"#000000\" points=\"817.1137,-78.4373 814.1562,-68.2637 810.1238,-78.0611 817.1137,-78.4373\"/>\n</g>\n<!-- 31 -->\n<g id=\"node28\" class=\"node\">\n<title>31</title>\n<polygon fill=\"#eeab7b\" stroke=\"#000000\" points=\"1003.5,-68 900.5,-68 900.5,0 1003.5,0 1003.5,-68\"/>\n<text text-anchor=\"middle\" x=\"952\" y=\"-52.8\" font-family=\"Times,serif\" font-size=\"14.00\" fill=\"#000000\">entropy = 0.81</text>\n<text text-anchor=\"middle\" x=\"952\" y=\"-37.8\" font-family=\"Times,serif\" font-size=\"14.00\" fill=\"#000000\">samples = 24</text>\n<text text-anchor=\"middle\" x=\"952\" y=\"-22.8\" font-family=\"Times,serif\" font-size=\"14.00\" fill=\"#000000\">value = [18, 6]</text>\n<text text-anchor=\"middle\" x=\"952\" y=\"-7.8\" font-family=\"Times,serif\" font-size=\"14.00\" fill=\"#000000\">class = No</text>\n</g>\n<!-- 30&#45;&gt;31 -->\n<g id=\"edge27\" class=\"edge\">\n<title>30&#45;&gt;31</title>\n<path fill=\"none\" stroke=\"#000000\" d=\"M955.7658,-103.9815C955.3158,-95.618 954.8411,-86.7965 954.3861,-78.3409\"/>\n<polygon fill=\"#000000\" stroke=\"#000000\" points=\"957.8762,-78.0611 953.8438,-68.2637 950.8863,-78.4373 957.8762,-78.0611\"/>\n</g>\n<!-- 32 -->\n<g id=\"node29\" class=\"node\">\n<title>32</title>\n<polygon fill=\"#fdf4ed\" stroke=\"#000000\" points=\"1130.5,-68 1021.5,-68 1021.5,0 1130.5,0 1130.5,-68\"/>\n<text text-anchor=\"middle\" x=\"1076\" y=\"-52.8\" font-family=\"Times,serif\" font-size=\"14.00\" fill=\"#000000\">entropy = 1.0</text>\n<text text-anchor=\"middle\" x=\"1076\" y=\"-37.8\" font-family=\"Times,serif\" font-size=\"14.00\" fill=\"#000000\">samples = 21</text>\n<text text-anchor=\"middle\" x=\"1076\" y=\"-22.8\" font-family=\"Times,serif\" font-size=\"14.00\" fill=\"#000000\">value = [11, 10]</text>\n<text text-anchor=\"middle\" x=\"1076\" y=\"-7.8\" font-family=\"Times,serif\" font-size=\"14.00\" fill=\"#000000\">class = No</text>\n</g>\n<!-- 30&#45;&gt;32 -->\n<g id=\"edge28\" class=\"edge\">\n<title>30&#45;&gt;32</title>\n<path fill=\"none\" stroke=\"#000000\" d=\"M1001.9388,-103.9815C1011.8598,-94.607 1022.3897,-84.6572 1032.3008,-75.2921\"/>\n<polygon fill=\"#000000\" stroke=\"#000000\" points=\"1034.8743,-77.6757 1039.7389,-68.2637 1030.0666,-72.5878 1034.8743,-77.6757\"/>\n</g>\n<!-- 15 -->\n<g id=\"node31\" class=\"node\">\n<title>15</title>\n<polygon fill=\"#fae8db\" stroke=\"#000000\" points=\"1154.5,-179.5 1051.5,-179.5 1051.5,-111.5 1154.5,-111.5 1154.5,-179.5\"/>\n<text text-anchor=\"middle\" x=\"1103\" y=\"-164.3\" font-family=\"Times,serif\" font-size=\"14.00\" fill=\"#000000\">entropy = 0.99</text>\n<text text-anchor=\"middle\" x=\"1103\" y=\"-149.3\" font-family=\"Times,serif\" font-size=\"14.00\" fill=\"#000000\">samples = 20</text>\n<text text-anchor=\"middle\" x=\"1103\" y=\"-134.3\" font-family=\"Times,serif\" font-size=\"14.00\" fill=\"#000000\">value = [11, 9]</text>\n<text text-anchor=\"middle\" x=\"1103\" y=\"-119.3\" font-family=\"Times,serif\" font-size=\"14.00\" fill=\"#000000\">class = No</text>\n</g>\n<!-- 12&#45;&gt;15 -->\n<g id=\"edge30\" class=\"edge\">\n<title>12&#45;&gt;15</title>\n<path fill=\"none\" stroke=\"#000000\" d=\"M1103,-222.8796C1103,-212.2134 1103,-200.7021 1103,-189.9015\"/>\n<polygon fill=\"#000000\" stroke=\"#000000\" points=\"1106.5001,-189.8149 1103,-179.8149 1099.5001,-189.815 1106.5001,-189.8149\"/>\n</g>\n<!-- 16 -->\n<g id=\"node32\" class=\"node\">\n<title>16</title>\n<polygon fill=\"#6cb6ec\" stroke=\"#000000\" points=\"1275.5,-179.5 1172.5,-179.5 1172.5,-111.5 1275.5,-111.5 1275.5,-179.5\"/>\n<text text-anchor=\"middle\" x=\"1224\" y=\"-164.3\" font-family=\"Times,serif\" font-size=\"14.00\" fill=\"#000000\">entropy = 0.73</text>\n<text text-anchor=\"middle\" x=\"1224\" y=\"-149.3\" font-family=\"Times,serif\" font-size=\"14.00\" fill=\"#000000\">samples = 39</text>\n<text text-anchor=\"middle\" x=\"1224\" y=\"-134.3\" font-family=\"Times,serif\" font-size=\"14.00\" fill=\"#000000\">value = [8, 31]</text>\n<text text-anchor=\"middle\" x=\"1224\" y=\"-119.3\" font-family=\"Times,serif\" font-size=\"14.00\" fill=\"#000000\">class = Yes</text>\n</g>\n<!-- 12&#45;&gt;16 -->\n<g id=\"edge31\" class=\"edge\">\n<title>12&#45;&gt;16</title>\n<path fill=\"none\" stroke=\"#000000\" d=\"M1145.3199,-222.8796C1157.1717,-211.2237 1170.0495,-198.5587 1181.8891,-186.9148\"/>\n<polygon fill=\"#000000\" stroke=\"#000000\" points=\"1184.4327,-189.3223 1189.1083,-179.8149 1179.5244,-184.3314 1184.4327,-189.3223\"/>\n</g>\n<!-- 13 -->\n<g id=\"node34\" class=\"node\">\n<title>13</title>\n<polygon fill=\"#add7f4\" stroke=\"#000000\" points=\"728,-655.5 618,-655.5 618,-587.5 728,-587.5 728,-655.5\"/>\n<text text-anchor=\"middle\" x=\"673\" y=\"-640.3\" font-family=\"Times,serif\" font-size=\"14.00\" fill=\"#000000\">entropy = 0.95</text>\n<text text-anchor=\"middle\" x=\"673\" y=\"-625.3\" font-family=\"Times,serif\" font-size=\"14.00\" fill=\"#000000\">samples = 27</text>\n<text text-anchor=\"middle\" x=\"673\" y=\"-610.3\" font-family=\"Times,serif\" font-size=\"14.00\" fill=\"#000000\">value = [10, 17]</text>\n<text text-anchor=\"middle\" x=\"673\" y=\"-595.3\" font-family=\"Times,serif\" font-size=\"14.00\" fill=\"#000000\">class = Yes</text>\n</g>\n<!-- 2&#45;&gt;13 -->\n<g id=\"edge33\" class=\"edge\">\n<title>2&#45;&gt;13</title>\n<path fill=\"none\" stroke=\"#000000\" d=\"M673,-698.8796C673,-688.2134 673,-676.7021 673,-665.9015\"/>\n<polygon fill=\"#000000\" stroke=\"#000000\" points=\"676.5001,-665.8149 673,-655.8149 669.5001,-665.815 676.5001,-665.8149\"/>\n</g>\n<!-- 14 -->\n<g id=\"node35\" class=\"node\">\n<title>14</title>\n<polygon fill=\"#51a9e8\" stroke=\"#000000\" points=\"863,-663 749,-663 749,-580 863,-580 863,-663\"/>\n<text text-anchor=\"middle\" x=\"806\" y=\"-647.8\" font-family=\"Times,serif\" font-size=\"14.00\" fill=\"#000000\">Insulin &lt;= 201.0</text>\n<text text-anchor=\"middle\" x=\"806\" y=\"-632.8\" font-family=\"Times,serif\" font-size=\"14.00\" fill=\"#000000\">entropy = 0.49</text>\n<text text-anchor=\"middle\" x=\"806\" y=\"-617.8\" font-family=\"Times,serif\" font-size=\"14.00\" fill=\"#000000\">samples = 56</text>\n<text text-anchor=\"middle\" x=\"806\" y=\"-602.8\" font-family=\"Times,serif\" font-size=\"14.00\" fill=\"#000000\">value = [6, 50]</text>\n<text text-anchor=\"middle\" x=\"806\" y=\"-587.8\" font-family=\"Times,serif\" font-size=\"14.00\" fill=\"#000000\">class = Yes</text>\n</g>\n<!-- 2&#45;&gt;14 -->\n<g id=\"edge34\" class=\"edge\">\n<title>2&#45;&gt;14</title>\n<path fill=\"none\" stroke=\"#000000\" d=\"M719.5169,-698.8796C729.8848,-689.6031 740.9671,-679.6874 751.6199,-670.1559\"/>\n<polygon fill=\"#000000\" stroke=\"#000000\" points=\"754.1659,-672.5744 759.2845,-663.2981 749.4983,-667.3577 754.1659,-672.5744\"/>\n</g>\n<!-- 17 -->\n<g id=\"node36\" class=\"node\">\n<title>17</title>\n<polygon fill=\"#3fa0e6\" stroke=\"#000000\" points=\"857.5,-536.5 754.5,-536.5 754.5,-468.5 857.5,-468.5 857.5,-536.5\"/>\n<text text-anchor=\"middle\" x=\"806\" y=\"-521.3\" font-family=\"Times,serif\" font-size=\"14.00\" fill=\"#000000\">entropy = 0.18</text>\n<text text-anchor=\"middle\" x=\"806\" y=\"-506.3\" font-family=\"Times,serif\" font-size=\"14.00\" fill=\"#000000\">samples = 36</text>\n<text text-anchor=\"middle\" x=\"806\" y=\"-491.3\" font-family=\"Times,serif\" font-size=\"14.00\" fill=\"#000000\">value = [1, 35]</text>\n<text text-anchor=\"middle\" x=\"806\" y=\"-476.3\" font-family=\"Times,serif\" font-size=\"14.00\" fill=\"#000000\">class = Yes</text>\n</g>\n<!-- 14&#45;&gt;17 -->\n<g id=\"edge35\" class=\"edge\">\n<title>14&#45;&gt;17</title>\n<path fill=\"none\" stroke=\"#000000\" d=\"M806,-579.8796C806,-569.2134 806,-557.7021 806,-546.9015\"/>\n<polygon fill=\"#000000\" stroke=\"#000000\" points=\"809.5001,-546.8149 806,-536.8149 802.5001,-546.815 809.5001,-546.8149\"/>\n</g>\n<!-- 18 -->\n<g id=\"node37\" class=\"node\">\n<title>18</title>\n<polygon fill=\"#7bbeee\" stroke=\"#000000\" points=\"978.5,-536.5 875.5,-536.5 875.5,-468.5 978.5,-468.5 978.5,-536.5\"/>\n<text text-anchor=\"middle\" x=\"927\" y=\"-521.3\" font-family=\"Times,serif\" font-size=\"14.00\" fill=\"#000000\">entropy = 0.81</text>\n<text text-anchor=\"middle\" x=\"927\" y=\"-506.3\" font-family=\"Times,serif\" font-size=\"14.00\" fill=\"#000000\">samples = 20</text>\n<text text-anchor=\"middle\" x=\"927\" y=\"-491.3\" font-family=\"Times,serif\" font-size=\"14.00\" fill=\"#000000\">value = [5, 15]</text>\n<text text-anchor=\"middle\" x=\"927\" y=\"-476.3\" font-family=\"Times,serif\" font-size=\"14.00\" fill=\"#000000\">class = Yes</text>\n</g>\n<!-- 14&#45;&gt;18 -->\n<g id=\"edge36\" class=\"edge\">\n<title>14&#45;&gt;18</title>\n<path fill=\"none\" stroke=\"#000000\" d=\"M848.3199,-579.8796C860.1717,-568.2237 873.0495,-555.5587 884.8891,-543.9148\"/>\n<polygon fill=\"#000000\" stroke=\"#000000\" points=\"887.4327,-546.3223 892.1083,-536.8149 882.5244,-541.3314 887.4327,-546.3223\"/>\n</g>\n</g>\n</svg>\n"
          },
          "metadata": {},
          "execution_count": 9
        }
      ]
    },
    {
      "cell_type": "markdown",
      "metadata": {
        "id": "zN-e7-6HKXi7"
      },
      "source": [
        "Estimate the model using the test data."
      ]
    },
    {
      "cell_type": "markdown",
      "metadata": {
        "id": "QuwkY0B5KbWE"
      },
      "source": [
        "Enter the rate of correct answers:"
      ]
    },
    {
      "cell_type": "code",
      "metadata": {
        "colab": {
          "base_uri": "https://localhost:8080/"
        },
        "id": "vMhGyAhbHwRs",
        "outputId": "7713d218-7c5c-42fe-d578-16579850a3f1"
      },
      "source": [
        "predictors_test = test_data.drop('Outcome', 1)\n",
        "y_true = test_data['Outcome']\n",
        "y_pred = model.predict(predictors_test)\n",
        "\n",
        "from sklearn.metrics import accuracy_score\n",
        "accuracy_score(y_true, y_pred)"
      ],
      "execution_count": 10,
      "outputs": [
        {
          "output_type": "execute_result",
          "data": {
            "text/plain": [
              "0.8"
            ]
          },
          "metadata": {},
          "execution_count": 10
        }
      ]
    },
    {
      "cell_type": "markdown",
      "metadata": {
        "id": "JuAF7I2BKcuG"
      },
      "source": [
        "Enter the mean of the metrics F1(Macro-F1):"
      ]
    },
    {
      "cell_type": "code",
      "metadata": {
        "colab": {
          "base_uri": "https://localhost:8080/"
        },
        "id": "ep_jPgBOKcYs",
        "outputId": "934b280c-7752-4cc1-85ff-f0d4a6ef9bc2"
      },
      "source": [
        "from sklearn.metrics import f1_score\n",
        "f1_score(y_true, y_pred, average='macro')"
      ],
      "execution_count": 11,
      "outputs": [
        {
          "output_type": "execute_result",
          "data": {
            "text/plain": [
              "0.7305484693877551"
            ]
          },
          "metadata": {},
          "execution_count": 11
        }
      ]
    },
    {
      "cell_type": "markdown",
      "metadata": {
        "id": "fsS0GJVlKj0G"
      },
      "source": [
        "Make a prediction for the patients 743, 715, 740, 741 (the numbers of strings starting from 0 are specified) from the input dataset."
      ]
    },
    {
      "cell_type": "code",
      "metadata": {
        "colab": {
          "base_uri": "https://localhost:8080/"
        },
        "id": "YeGMNb8yMFdr",
        "outputId": "405416e2-56af-4ba2-b95e-5af3083c5a19"
      },
      "source": [
        "for patient in [743, 715, 740, 741]:\n",
        "  #print(df.drop('Outcome', 1).loc[patient])\n",
        "  print(f'Patient {patient}: classified as', 'Positive' if model.predict([df.drop('Outcome', 1).loc[patient]])[0] else 'Negative')"
      ],
      "execution_count": 12,
      "outputs": [
        {
          "output_type": "stream",
          "name": "stdout",
          "text": [
            "Patient 743: classified as Positive\n",
            "Patient 715: classified as Positive\n",
            "Patient 740: classified as Positive\n",
            "Patient 741: classified as Negative\n"
          ]
        }
      ]
    }
  ]
}