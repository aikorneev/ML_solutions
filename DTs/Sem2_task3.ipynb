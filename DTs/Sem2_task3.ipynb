{
  "nbformat": 4,
  "nbformat_minor": 0,
  "metadata": {
    "colab": {
      "name": "Sem2_task3.ipynb",
      "provenance": []
    },
    "kernelspec": {
      "name": "python3",
      "display_name": "Python 3"
    },
    "language_info": {
      "name": "python"
    }
  },
  "cells": [
    {
      "cell_type": "markdown",
      "metadata": {
        "id": "QxNZ0GBHl3Bb"
      },
      "source": [
        "Task 3.1"
      ]
    },
    {
      "cell_type": "markdown",
      "metadata": {
        "id": "T92648dZlmDn"
      },
      "source": [
        "You are offered a food demand table that includes sushi, pizza, and burgers, as well as their corresponding prices and quality ratings. The task is to find the most informative criterion for the first split into groups."
      ]
    },
    {
      "cell_type": "code",
      "metadata": {
        "colab": {
          "base_uri": "https://localhost:8080/",
          "height": 665
        },
        "id": "r4nfWC3_lfdp",
        "outputId": "90a85d8f-9fe4-44f2-f502-5544581ed67f"
      },
      "source": [
        "import pandas as pd\n",
        "\n",
        "data = [['Pizza',\t1,\t2, 'No'],\n",
        "['Pizza',\t3, 2,\t'Yes'],\n",
        "['Pizza',\t5,\t1,\t'No'],\n",
        "['Pizza',\t1,\t3,\t'Yes'],\n",
        "['Pizza',\t2, 3,\t'No'],\n",
        "['Sushi',\t3,\t2,\t'Yes'],\n",
        "['Sushi',\t1,\t5,\t'Yes'],\n",
        "['Sushi',\t3,\t4,\t'No'],\n",
        "['Sushi',\t5,\t2,\t'No'],\n",
        "['Sushi',\t5,\t5,\t'Yes'],\n",
        "['Sushi',\t3,\t5,\t'No'],\n",
        "['Sushi',\t5,\t5,\t'No'],\n",
        "['Sushi',\t4,\t4,\t'Yes'],\n",
        "['Burgers',\t4,\t4,\t'No'],\n",
        "['Burgers',\t3,\t3,\t'No'],\n",
        "['Burgers',\t2,\t2,\t'No'],\n",
        "['Burgers',\t3,\t3,\t'Yes'],\n",
        "['Burgers',\t2,\t2,\t'Yes'],\n",
        "['Burgers',\t1,\t1,\t'Yes'],\n",
        "['Burgers',\t1,\t1,\t'No']]\n",
        "\n",
        "df = pd.DataFrame(data, columns=['Food','Price', 'Taste', 'Demand'])\n",
        "df"
      ],
      "execution_count": null,
      "outputs": [
        {
          "output_type": "execute_result",
          "data": {
            "text/html": [
              "<div>\n",
              "<style scoped>\n",
              "    .dataframe tbody tr th:only-of-type {\n",
              "        vertical-align: middle;\n",
              "    }\n",
              "\n",
              "    .dataframe tbody tr th {\n",
              "        vertical-align: top;\n",
              "    }\n",
              "\n",
              "    .dataframe thead th {\n",
              "        text-align: right;\n",
              "    }\n",
              "</style>\n",
              "<table border=\"1\" class=\"dataframe\">\n",
              "  <thead>\n",
              "    <tr style=\"text-align: right;\">\n",
              "      <th></th>\n",
              "      <th>Food</th>\n",
              "      <th>Price</th>\n",
              "      <th>Taste</th>\n",
              "      <th>Demand</th>\n",
              "    </tr>\n",
              "  </thead>\n",
              "  <tbody>\n",
              "    <tr>\n",
              "      <th>0</th>\n",
              "      <td>Pizza</td>\n",
              "      <td>1</td>\n",
              "      <td>2</td>\n",
              "      <td>No</td>\n",
              "    </tr>\n",
              "    <tr>\n",
              "      <th>1</th>\n",
              "      <td>Pizza</td>\n",
              "      <td>3</td>\n",
              "      <td>2</td>\n",
              "      <td>Yes</td>\n",
              "    </tr>\n",
              "    <tr>\n",
              "      <th>2</th>\n",
              "      <td>Pizza</td>\n",
              "      <td>5</td>\n",
              "      <td>1</td>\n",
              "      <td>No</td>\n",
              "    </tr>\n",
              "    <tr>\n",
              "      <th>3</th>\n",
              "      <td>Pizza</td>\n",
              "      <td>1</td>\n",
              "      <td>3</td>\n",
              "      <td>Yes</td>\n",
              "    </tr>\n",
              "    <tr>\n",
              "      <th>4</th>\n",
              "      <td>Pizza</td>\n",
              "      <td>2</td>\n",
              "      <td>3</td>\n",
              "      <td>No</td>\n",
              "    </tr>\n",
              "    <tr>\n",
              "      <th>5</th>\n",
              "      <td>Sushi</td>\n",
              "      <td>3</td>\n",
              "      <td>2</td>\n",
              "      <td>Yes</td>\n",
              "    </tr>\n",
              "    <tr>\n",
              "      <th>6</th>\n",
              "      <td>Sushi</td>\n",
              "      <td>1</td>\n",
              "      <td>5</td>\n",
              "      <td>Yes</td>\n",
              "    </tr>\n",
              "    <tr>\n",
              "      <th>7</th>\n",
              "      <td>Sushi</td>\n",
              "      <td>3</td>\n",
              "      <td>4</td>\n",
              "      <td>No</td>\n",
              "    </tr>\n",
              "    <tr>\n",
              "      <th>8</th>\n",
              "      <td>Sushi</td>\n",
              "      <td>5</td>\n",
              "      <td>2</td>\n",
              "      <td>No</td>\n",
              "    </tr>\n",
              "    <tr>\n",
              "      <th>9</th>\n",
              "      <td>Sushi</td>\n",
              "      <td>5</td>\n",
              "      <td>5</td>\n",
              "      <td>Yes</td>\n",
              "    </tr>\n",
              "    <tr>\n",
              "      <th>10</th>\n",
              "      <td>Sushi</td>\n",
              "      <td>3</td>\n",
              "      <td>5</td>\n",
              "      <td>No</td>\n",
              "    </tr>\n",
              "    <tr>\n",
              "      <th>11</th>\n",
              "      <td>Sushi</td>\n",
              "      <td>5</td>\n",
              "      <td>5</td>\n",
              "      <td>No</td>\n",
              "    </tr>\n",
              "    <tr>\n",
              "      <th>12</th>\n",
              "      <td>Sushi</td>\n",
              "      <td>4</td>\n",
              "      <td>4</td>\n",
              "      <td>Yes</td>\n",
              "    </tr>\n",
              "    <tr>\n",
              "      <th>13</th>\n",
              "      <td>Burgers</td>\n",
              "      <td>4</td>\n",
              "      <td>4</td>\n",
              "      <td>No</td>\n",
              "    </tr>\n",
              "    <tr>\n",
              "      <th>14</th>\n",
              "      <td>Burgers</td>\n",
              "      <td>3</td>\n",
              "      <td>3</td>\n",
              "      <td>No</td>\n",
              "    </tr>\n",
              "    <tr>\n",
              "      <th>15</th>\n",
              "      <td>Burgers</td>\n",
              "      <td>2</td>\n",
              "      <td>2</td>\n",
              "      <td>No</td>\n",
              "    </tr>\n",
              "    <tr>\n",
              "      <th>16</th>\n",
              "      <td>Burgers</td>\n",
              "      <td>3</td>\n",
              "      <td>3</td>\n",
              "      <td>Yes</td>\n",
              "    </tr>\n",
              "    <tr>\n",
              "      <th>17</th>\n",
              "      <td>Burgers</td>\n",
              "      <td>2</td>\n",
              "      <td>2</td>\n",
              "      <td>Yes</td>\n",
              "    </tr>\n",
              "    <tr>\n",
              "      <th>18</th>\n",
              "      <td>Burgers</td>\n",
              "      <td>1</td>\n",
              "      <td>1</td>\n",
              "      <td>Yes</td>\n",
              "    </tr>\n",
              "    <tr>\n",
              "      <th>19</th>\n",
              "      <td>Burgers</td>\n",
              "      <td>1</td>\n",
              "      <td>1</td>\n",
              "      <td>No</td>\n",
              "    </tr>\n",
              "  </tbody>\n",
              "</table>\n",
              "</div>"
            ],
            "text/plain": [
              "       Food  Price  Taste Demand\n",
              "0     Pizza      1      2     No\n",
              "1     Pizza      3      2    Yes\n",
              "2     Pizza      5      1     No\n",
              "3     Pizza      1      3    Yes\n",
              "4     Pizza      2      3     No\n",
              "5     Sushi      3      2    Yes\n",
              "6     Sushi      1      5    Yes\n",
              "7     Sushi      3      4     No\n",
              "8     Sushi      5      2     No\n",
              "9     Sushi      5      5    Yes\n",
              "10    Sushi      3      5     No\n",
              "11    Sushi      5      5     No\n",
              "12    Sushi      4      4    Yes\n",
              "13  Burgers      4      4     No\n",
              "14  Burgers      3      3     No\n",
              "15  Burgers      2      2     No\n",
              "16  Burgers      3      3    Yes\n",
              "17  Burgers      2      2    Yes\n",
              "18  Burgers      1      1    Yes\n",
              "19  Burgers      1      1     No"
            ]
          },
          "metadata": {},
          "execution_count": 1
        }
      ]
    },
    {
      "cell_type": "markdown",
      "metadata": {
        "id": "tVbqvX3OnV7J"
      },
      "source": [
        "Calculate the initial entropy of the response H(Demand)."
      ]
    },
    {
      "cell_type": "code",
      "metadata": {
        "colab": {
          "base_uri": "https://localhost:8080/"
        },
        "id": "xL6lvR7UnRyb",
        "outputId": "46d3740e-a4b4-4da0-d361-e6529f497bb6"
      },
      "source": [
        "from collections import Counter\n",
        "cnt = Counter(df['Demand'])\n",
        "cnt"
      ],
      "execution_count": null,
      "outputs": [
        {
          "output_type": "execute_result",
          "data": {
            "text/plain": [
              "Counter({'No': 11, 'Yes': 9})"
            ]
          },
          "metadata": {},
          "execution_count": 2
        }
      ]
    },
    {
      "cell_type": "code",
      "metadata": {
        "colab": {
          "base_uri": "https://localhost:8080/"
        },
        "id": "8C6mH1fmom9S",
        "outputId": "394437a8-ff48-4d3a-f047-15cb003b4be7"
      },
      "source": [
        "import math\n",
        "total = sum(cnt.values())\n",
        "p_demand = [val/total for val in cnt.values()]\n",
        "h_demand = sum([-val/total*math.log(val/total, 2) for val in cnt.values()])\n",
        "print('p =', p_demand, '\\th =', h_demand)"
      ],
      "execution_count": null,
      "outputs": [
        {
          "output_type": "stream",
          "name": "stdout",
          "text": [
            "p = [0.55, 0.45] \th = 0.9927744539878084\n"
          ]
        }
      ]
    },
    {
      "cell_type": "code",
      "metadata": {
        "id": "-Sl37nODsHA-"
      },
      "source": [
        "#since the highest entropy of the experiment can be equal to 1, we can conclude there is only uncertainty."
      ],
      "execution_count": null,
      "outputs": []
    },
    {
      "cell_type": "markdown",
      "metadata": {
        "id": "3gk7EEJHq13l"
      },
      "source": [
        "Fill out the probability table of outcomes of the experiment.\n",
        "\n",
        "P(Demand = 'YES' | Food = 'Pizza'), P(Demand = 'NO' | Food = 'Pizza') \n",
        "\n",
        "P(Demand = 'YES' | Food = 'Sushi'), P(Demand = 'NO' | Food = 'Sushi') \n",
        "\n",
        "P(Demand = 'YES' | Food = 'Burgers'), P(Demand = 'NO' | Food = 'Burgers') "
      ]
    },
    {
      "cell_type": "code",
      "metadata": {
        "id": "QlnpsrtCophR"
      },
      "source": [
        "#P(A|B) = P(A and B)/P(B) = num(A and B)/num(B)\n",
        "def conditional_p(col_name1, value1, col_name2, value2):\n",
        "  numAB = df.loc[df[col_name1] == value1].loc[df[col_name2] == value2].shape[0]\n",
        "  numB = df.loc[df[col_name2] == value2].shape[0]\n",
        "  return numAB/numB\n",
        "\n",
        "def classic_p(col_name, value):\n",
        "  return df.loc[df[col_name] == value].shape[0]/df.shape[0]"
      ],
      "execution_count": null,
      "outputs": []
    },
    {
      "cell_type": "code",
      "metadata": {
        "colab": {
          "base_uri": "https://localhost:8080/"
        },
        "id": "PoSgnOb7rtH4",
        "outputId": "1c8aa1c8-9c84-469a-8b08-4572de034feb"
      },
      "source": [
        "for demand_type in set(df['Demand']):\n",
        "  for food_type in set(df['Food']):\n",
        "    print('P(Demand=', demand_type,'| Food=', food_type, ')=', conditional_p('Demand', demand_type, 'Food', food_type))"
      ],
      "execution_count": null,
      "outputs": [
        {
          "output_type": "stream",
          "name": "stdout",
          "text": [
            "P(Demand= Yes | Food= Pizza )= 0.4\n",
            "P(Demand= Yes | Food= Sushi )= 0.5\n",
            "P(Demand= Yes | Food= Burgers )= 0.42857142857142855\n",
            "P(Demand= No | Food= Pizza )= 0.6\n",
            "P(Demand= No | Food= Sushi )= 0.5\n",
            "P(Demand= No | Food= Burgers )= 0.5714285714285714\n"
          ]
        }
      ]
    },
    {
      "cell_type": "markdown",
      "metadata": {
        "id": "jjGJEwJOACUn"
      },
      "source": [
        "Calculate the conditional entropies of the experiment (Food, Demand) given that sushi, pizza, or burger is chosen.\n",
        "\n",
        "Enter the value of conditional entropy given that burger is chosen H(Demand|Burgers)."
      ]
    },
    {
      "cell_type": "code",
      "metadata": {
        "colab": {
          "base_uri": "https://localhost:8080/"
        },
        "id": "1YUXLVIowWo3",
        "outputId": "ff025ba6-498c-4bcf-a0f4-0a98e95acaa0"
      },
      "source": [
        "#H(Demand|food_type)  = SUM [ -P(dem_i|food_type) log P(dem_i|food_type) ]\n",
        "H_dem_bur = sum([-conditional_p('Demand', dem, 'Food', 'Burgers')*math.log(conditional_p('Demand', dem, 'Food', 'Burgers'), 2) for dem in set(df['Demand'])])\n",
        "H_dem_bur"
      ],
      "execution_count": null,
      "outputs": [
        {
          "output_type": "execute_result",
          "data": {
            "text/plain": [
              "0.9852281360342516"
            ]
          },
          "metadata": {},
          "execution_count": 12
        }
      ]
    },
    {
      "cell_type": "code",
      "metadata": {
        "colab": {
          "base_uri": "https://localhost:8080/"
        },
        "id": "V2U9J8m-EhAW",
        "outputId": "c3ea317c-3136-4935-bbec-846f4a4f6b0e"
      },
      "source": [
        "H_dem_piz = sum([-conditional_p('Demand', dem, 'Food', 'Pizza')*math.log(conditional_p('Demand', dem, 'Food', 'Pizza'), 2) for dem in set(df['Demand'])])\n",
        "H_dem_piz"
      ],
      "execution_count": null,
      "outputs": [
        {
          "output_type": "execute_result",
          "data": {
            "text/plain": [
              "0.9709505944546686"
            ]
          },
          "metadata": {},
          "execution_count": 13
        }
      ]
    },
    {
      "cell_type": "code",
      "metadata": {
        "colab": {
          "base_uri": "https://localhost:8080/"
        },
        "id": "CmaEy9H1EuNY",
        "outputId": "48b82ecf-81be-4432-97a1-b31124ea0945"
      },
      "source": [
        "H_dem_sus = sum([-conditional_p('Demand', dem, 'Food', 'Sushi')*math.log(conditional_p('Demand', dem, 'Food', 'Sushi'), 2) for dem in set(df['Demand'])])\n",
        "H_dem_sus"
      ],
      "execution_count": null,
      "outputs": [
        {
          "output_type": "execute_result",
          "data": {
            "text/plain": [
              "1.0"
            ]
          },
          "metadata": {},
          "execution_count": 14
        }
      ]
    },
    {
      "cell_type": "markdown",
      "metadata": {
        "id": "Fz96JiNDFEM-"
      },
      "source": [
        "Calculate the information gain (Demand|Food)"
      ]
    },
    {
      "cell_type": "code",
      "metadata": {
        "colab": {
          "base_uri": "https://localhost:8080/"
        },
        "id": "mHn00PWbFGLi",
        "outputId": "75fbbc23-953e-4122-afb7-0a8694ae54b0"
      },
      "source": [
        "H_food = classic_p('Food', 'Sushi')\n",
        "H_food"
      ],
      "execution_count": null,
      "outputs": [
        {
          "output_type": "execute_result",
          "data": {
            "text/plain": [
              "0.4"
            ]
          },
          "metadata": {},
          "execution_count": 17
        }
      ]
    }
  ]
}