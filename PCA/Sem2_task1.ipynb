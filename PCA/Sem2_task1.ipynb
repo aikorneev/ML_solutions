{
  "nbformat": 4,
  "nbformat_minor": 0,
  "metadata": {
    "colab": {
      "name": "Sem2_task1.ipynb",
      "provenance": [],
      "authorship_tag": "ABX9TyPcVAm0Ntyq6b/AfzozNBMQ",
      "include_colab_link": true
    },
    "kernelspec": {
      "name": "python3",
      "display_name": "Python 3"
    },
    "language_info": {
      "name": "python"
    }
  },
  "cells": [
    {
      "cell_type": "markdown",
      "metadata": {
        "id": "view-in-github",
        "colab_type": "text"
      },
      "source": [
        "<a href=\"https://colab.research.google.com/github/aikorneev/ML_solutions/blob/main/PCA/Sem2_task1.ipynb\" target=\"_parent\"><img src=\"https://colab.research.google.com/assets/colab-badge.svg\" alt=\"Open In Colab\"/></a>"
      ]
    },
    {
      "cell_type": "markdown",
      "metadata": {
        "id": "I6zWgaMdtmAT"
      },
      "source": [
        "# Task 1.1"
      ]
    },
    {
      "cell_type": "markdown",
      "metadata": {
        "id": "97vOAmqjhUdx"
      },
      "source": [
        "In the file there is a set of synthetic data. The data describes 60 objects, each of which has 10 features. Your task is to switch to the new coordinates using principal components method and find the following parameters."
      ]
    },
    {
      "cell_type": "markdown",
      "metadata": {
        "id": "LcWJ2q0bjTR_"
      },
      "source": [
        "Preparations:"
      ]
    },
    {
      "cell_type": "code",
      "metadata": {
        "colab": {
          "base_uri": "https://localhost:8080/"
        },
        "id": "O1dg9cVFhOIr",
        "outputId": "430fff5a-c073-4696-996e-ec23df252928"
      },
      "source": [
        "#connection to google drive\n",
        "from google.colab import drive\n",
        "drive.mount('/content/drive')"
      ],
      "execution_count": 1,
      "outputs": [
        {
          "output_type": "stream",
          "text": [
            "Mounted at /content/drive\n"
          ],
          "name": "stdout"
        }
      ]
    },
    {
      "cell_type": "code",
      "metadata": {
        "id": "o9oB0vvkiSKk"
      },
      "source": [
        "import csv\n",
        "import numpy as np\n",
        "with open('/content/drive/My Drive/Digital culture/Semester2/task1.1.csv', 'r') as f:\n",
        "    reader = csv.reader(f)\n",
        "    X = list(reader)\n",
        "X = np.array(X).astype(np.float64)"
      ],
      "execution_count": 26,
      "outputs": []
    },
    {
      "cell_type": "markdown",
      "metadata": {
        "id": "x981sDUFje7F"
      },
      "source": [
        "Enter the coordinate of the first object with respect to the first principal component:"
      ]
    },
    {
      "cell_type": "code",
      "metadata": {
        "colab": {
          "base_uri": "https://localhost:8080/"
        },
        "id": "251OG1eNjjp7",
        "outputId": "703fdd3c-325d-4ee5-c07d-5c64d1e94215"
      },
      "source": [
        "from sklearn.decomposition import PCA\n",
        "pca = PCA(n_components=1, svd_solver='full') \n",
        "X_transformed = pca.fit(X).transform(X)\n",
        "X_transformed[0][0]"
      ],
      "execution_count": 30,
      "outputs": [
        {
          "output_type": "execute_result",
          "data": {
            "text/plain": [
              "-14.279030887429187"
            ]
          },
          "metadata": {
            "tags": []
          },
          "execution_count": 30
        }
      ]
    },
    {
      "cell_type": "markdown",
      "metadata": {
        "id": "5ukIpZVYjX7S"
      },
      "source": [
        "Enter the coordinate of the first object with respect to the second principal component."
      ]
    },
    {
      "cell_type": "code",
      "metadata": {
        "colab": {
          "base_uri": "https://localhost:8080/"
        },
        "id": "dwGtYk1mjhNT",
        "outputId": "111261f7-cc05-4e32-b222-bf66f031de31"
      },
      "source": [
        "pca = PCA(n_components=2, svd_solver='full') \n",
        "X_transformed = pca.fit(X).transform(X)\n",
        "X_transformed[0][1]"
      ],
      "execution_count": 33,
      "outputs": [
        {
          "output_type": "execute_result",
          "data": {
            "text/plain": [
              "-16.393222518273596"
            ]
          },
          "metadata": {
            "tags": []
          },
          "execution_count": 33
        }
      ]
    },
    {
      "cell_type": "markdown",
      "metadata": {
        "id": "9rfI-UoxmsIL"
      },
      "source": [
        "Enter the fraction of variance explained when the first and the second principal components are used."
      ]
    },
    {
      "cell_type": "code",
      "metadata": {
        "colab": {
          "base_uri": "https://localhost:8080/"
        },
        "id": "TON4EuEXjhKD",
        "outputId": "44487dfa-de07-428a-f0f1-ccceb9b537e8"
      },
      "source": [
        "#the fraction of variance explained with respect to the number of PCs used\n",
        "pca = PCA(n_components=X.shape[1], svd_solver='full')\n",
        "X_transformed = pca.fit(X).transform(X)\n",
        "explained_variance = np.cumsum(pca.explained_variance_ratio_)\n",
        "explained_variance[1]"
      ],
      "execution_count": 51,
      "outputs": [
        {
          "output_type": "execute_result",
          "data": {
            "text/plain": [
              "0.654177606799051"
            ]
          },
          "metadata": {
            "tags": []
          },
          "execution_count": 51
        }
      ]
    },
    {
      "cell_type": "code",
      "metadata": {
        "colab": {
          "base_uri": "https://localhost:8080/",
          "height": 282
        },
        "id": "4iUFfK-lrpUF",
        "outputId": "c1b45dff-5464-4969-8e4c-dbcf2a29fc0d"
      },
      "source": [
        "import matplotlib\n",
        "import matplotlib.pyplot as plt\n",
        "plt.plot(np.arange(X.shape[1]), explained_variance, ls = '-')"
      ],
      "execution_count": 65,
      "outputs": [
        {
          "output_type": "execute_result",
          "data": {
            "text/plain": [
              "[<matplotlib.lines.Line2D at 0x7fe624d6b050>]"
            ]
          },
          "metadata": {
            "tags": []
          },
          "execution_count": 65
        },
        {
          "output_type": "display_data",
          "data": {
            "image/png": "[encoded data removed]",
            "text/plain": [
              "<Figure size 432x288 with 1 Axes>"
            ]
          },
          "metadata": {
            "tags": [],
            "needs_background": "light"
          }
        }
      ]
    },
    {
      "cell_type": "markdown",
      "metadata": {
        "id": "Pw8fZHzgpmvR"
      },
      "source": [
        "What minimal number of principal components are to be used, so that the fraction of variance explained will exceed 0.85"
      ]
    },
    {
      "cell_type": "code",
      "metadata": {
        "colab": {
          "base_uri": "https://localhost:8080/"
        },
        "id": "8OStsAUyjLvn",
        "outputId": "219ac833-4497-481c-dc8c-8612ff3e3339"
      },
      "source": [
        "elem_num = next(x[0] for x in enumerate(explained_variance) if x[1] > 0.85)\n",
        "#as far as python provide zero-based numbering one need to add 1\n",
        "elem_num + 1"
      ],
      "execution_count": 60,
      "outputs": [
        {
          "output_type": "execute_result",
          "data": {
            "text/plain": [
              "3"
            ]
          },
          "metadata": {
            "tags": []
          },
          "execution_count": 60
        }
      ]
    },
    {
      "cell_type": "markdown",
      "metadata": {
        "id": "jiRj-CASrWYc"
      },
      "source": [
        "What number of groups the objects can be splitted in, if only the first and the second principal components are used?"
      ]
    },
    {
      "cell_type": "code",
      "metadata": {
        "colab": {
          "base_uri": "https://localhost:8080/",
          "height": 282
        },
        "id": "P8gYt9oArbcy",
        "outputId": "23a88c7d-71af-43a1-af3d-d9eb5093e0d5"
      },
      "source": [
        "pca = PCA(n_components=2, svd_solver='full') \n",
        "X_transformed = pca.fit(X).transform(X)\n",
        "plt.plot(X_transformed[:,0], X_transformed[:,1], 'o', markerfacecolor='red', markeredgecolor='k', markersize=8)"
      ],
      "execution_count": 73,
      "outputs": [
        {
          "output_type": "execute_result",
          "data": {
            "text/plain": [
              "[<matplotlib.lines.Line2D at 0x7fe624aad890>]"
            ]
          },
          "metadata": {
            "tags": []
          },
          "execution_count": 73
        },
        {
          "output_type": "display_data",
          "data": {
            "image/png": "[encoded data removed]",
            "text/plain": [
              "<Figure size 432x288 with 1 Axes>"
            ]
          },
          "metadata": {
            "tags": [],
            "needs_background": "light"
          }
        }
      ]
    },
    {
      "cell_type": "markdown",
      "metadata": {
        "id": "C6Zjmg9StGmo"
      },
      "source": [
        "Plot shows 6 groups"
      ]
    },
    {
      "cell_type": "markdown",
      "metadata": {
        "id": "WxbHc1eStrzg"
      },
      "source": [
        "# Task 1.2"
      ]
    },
    {
      "cell_type": "markdown",
      "metadata": {
        "id": "jtO1O1jytwcz"
      },
      "source": [
        "In order to enter the ITMO Christmas party you must find the correct party logo. In order to get the logo picture you must reconstruct the initial logo using the first 10 principal components (all guests have got a score matrix and a loading matrix of the 10 first PCs)."
      ]
    },
    {
      "cell_type": "code",
      "metadata": {
        "id": "N59hhDWMtvm0"
      },
      "source": [
        "with open('/content/drive/My Drive/Digital culture/Semester2/X_loadings_task1.2.csv', 'r') as f:\n",
        "    reader = csv.reader(f, delimiter=';')\n",
        "    X_load = list(reader)\n",
        "X_load = np.array(X_load).astype(np.float64)"
      ],
      "execution_count": 76,
      "outputs": []
    },
    {
      "cell_type": "code",
      "metadata": {
        "id": "5J85zBGL0jnM"
      },
      "source": [
        "with open('/content/drive/My Drive/Digital culture/Semester2/X_reduced_task1.2.csv', 'r') as f:\n",
        "    reader = csv.reader(f, delimiter=';')\n",
        "    X_score = list(reader)\n",
        "X_score = np.array(X_score).astype(np.float64)"
      ],
      "execution_count": 77,
      "outputs": []
    },
    {
      "cell_type": "markdown",
      "metadata": {
        "id": "RdkNKOJw046W"
      },
      "source": [
        "X_score * X_load ^(T) = X"
      ]
    },
    {
      "cell_type": "code",
      "metadata": {
        "colab": {
          "base_uri": "https://localhost:8080/"
        },
        "id": "7lQv8COA1akA",
        "outputId": "eaecf28c-b5d9-4cbd-ceeb-d7ffe72dd155"
      },
      "source": [
        "X = np.matmul(X_score, X_load.transpose())\n",
        "X.shape"
      ],
      "execution_count": 84,
      "outputs": [
        {
          "output_type": "execute_result",
          "data": {
            "text/plain": [
              "(100, 100)"
            ]
          },
          "metadata": {
            "tags": []
          },
          "execution_count": 84
        }
      ]
    },
    {
      "cell_type": "code",
      "metadata": {
        "colab": {
          "base_uri": "https://localhost:8080/",
          "height": 285
        },
        "id": "cRj41EhT1RMR",
        "outputId": "f9ee5abb-607f-4a6a-e4df-f2e1638f44df"
      },
      "source": [
        "plt.imshow(X, cmap='Greys_r')"
      ],
      "execution_count": 86,
      "outputs": [
        {
          "output_type": "execute_result",
          "data": {
            "text/plain": [
              "<matplotlib.image.AxesImage at 0x7fe6249677d0>"
            ]
          },
          "metadata": {
            "tags": []
          },
          "execution_count": 86
        },
        {
          "output_type": "display_data",
          "data": {
            "image/png": "[encoded data removed]",
            "text/plain": [
              "<Figure size 432x288 with 1 Axes>"
            ]
          },
          "metadata": {
            "tags": [],
            "needs_background": "light"
          }
        }
      ]
    },
    {
      "cell_type": "code",
      "metadata": {
        "id": "3fr0nDcc1YCL"
      },
      "source": [
        ""
      ],
      "execution_count": null,
      "outputs": []
    }
  ]
}